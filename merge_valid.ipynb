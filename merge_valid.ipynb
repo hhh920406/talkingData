{
 "cells": [
  {
   "cell_type": "code",
   "execution_count": 6,
   "metadata": {},
   "outputs": [
    {
     "data": {
      "text/plain": [
       "<dask.context.set_options at 0x7f179993d710>"
      ]
     },
     "execution_count": 6,
     "metadata": {},
     "output_type": "execute_result"
    }
   ],
   "source": [
    "import pandas as pd\n",
    "import dask\n",
    "import dask.dataframe as dd\n",
    "from dask.diagnostics.progress import ProgressBar\n",
    "from functools import reduce\n",
    "import gc\n",
    "dask.set_options(temporary_directory='/root/mount/tmp')"
   ]
  },
  {
   "cell_type": "code",
   "execution_count": 2,
   "metadata": {},
   "outputs": [],
   "source": [
    "valid_count_accum = pd.read_feather('valid_count_accum.ftr')\n",
    "valid_origin_uniq_nextClick = pd.read_feather('valid_origin_uniq_nextClick.ftr')"
   ]
  },
  {
   "cell_type": "code",
   "execution_count": 7,
   "metadata": {},
   "outputs": [],
   "source": [
    "sd1 = dd.from_pandas(valid_count_accum, npartitions=3)\n",
    "sd2 = dd.from_pandas(valid_origin_uniq_nextClick, npartitions=3)"
   ]
  },
  {
   "cell_type": "code",
   "execution_count": 8,
   "metadata": {},
   "outputs": [
    {
     "data": {
      "text/plain": [
       "['valid_origin_uniq_nextClick.h5',\n",
       " 'valid_origin_uniq_nextClick.h5',\n",
       " 'valid_origin_uniq_nextClick.h5']"
      ]
     },
     "execution_count": 8,
     "metadata": {},
     "output_type": "execute_result"
    }
   ],
   "source": [
    "sd1.to_hdf('valid_count_accum.h5', 'valid_count_accum')\n",
    "sd2.to_hdf('valid_origin_uniq_nextClick.h5', 'valid_origin_uniq_nextClick')"
   ]
  },
  {
   "cell_type": "markdown",
   "metadata": {},
   "source": [
    "### merge process"
   ]
  },
  {
   "cell_type": "code",
   "execution_count": null,
   "metadata": {},
   "outputs": [],
   "source": [
    "sd1 = dd.read_hdf('valid_count_accum.h5', 'valid_count_accum')\n",
    "sd2 = dd.read_hdf('valid_origin_uniq_nextClick.h5', 'valid_origin_uniq_nextClick')"
   ]
  },
  {
   "cell_type": "code",
   "execution_count": null,
   "metadata": {},
   "outputs": [],
   "source": [
    "sd3 = sd1.merge(sd2, on=['index'])\n",
    "with ProgressBar():\n",
    "    sd3.to_hdf('valid_features.h5', 'valid_features')"
   ]
  },
  {
   "cell_type": "code",
   "execution_count": null,
   "metadata": {},
   "outputs": [],
   "source": [
    "valid_features = valid_count_accum.merge(valid_origin_uniq_nextClick, on=['index'])"
   ]
  },
  {
   "cell_type": "code",
   "execution_count": null,
   "metadata": {},
   "outputs": [],
   "source": []
  }
 ],
 "metadata": {
  "kernelspec": {
   "display_name": "Python 3",
   "language": "python",
   "name": "python3"
  },
  "language_info": {
   "codemirror_mode": {
    "name": "ipython",
    "version": 3
   },
   "file_extension": ".py",
   "mimetype": "text/x-python",
   "name": "python",
   "nbconvert_exporter": "python",
   "pygments_lexer": "ipython3",
   "version": "3.6.4"
  }
 },
 "nbformat": 4,
 "nbformat_minor": 2
}
