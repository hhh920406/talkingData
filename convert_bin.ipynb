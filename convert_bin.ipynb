{
 "cells": [
  {
   "cell_type": "code",
   "execution_count": 1,
   "metadata": {
    "collapsed": true
   },
   "outputs": [],
   "source": [
    "import numpy as np\n",
    "import pandas as pd\n",
    "import lightgbm as lgb\n",
    "import gc"
   ]
  },
  {
   "cell_type": "code",
   "execution_count": 2,
   "metadata": {
    "collapsed": true
   },
   "outputs": [],
   "source": [
    "train = pd.read_feather('data/train_features.ftr')\n",
    "valid = pd.read_feather('data/valid_features.ftr')"
   ]
  },
  {
   "cell_type": "code",
   "execution_count": null,
   "metadata": {
    "collapsed": true
   },
   "outputs": [],
   "source": [
    "for col in ['ip', 'app', 'device', 'os', 'channel', 'hour']:\n",
    "    train[col] = train[col].astype('category')\n",
    "    valid[col] = valid[col].astype('category')"
   ]
  },
  {
   "cell_type": "code",
   "execution_count": null,
   "metadata": {
    "collapsed": true
   },
   "outputs": [],
   "source": [
    "gc.collect()\n",
    "train.dtypes"
   ]
  },
  {
   "cell_type": "code",
   "execution_count": 3,
   "metadata": {
    "collapsed": true
   },
   "outputs": [],
   "source": [
    "features = [x for x in train.columns if x not in ['index', 'click_time', 'is_attributed']]\n",
    "categorical = ['ip', 'app', 'device', 'os', 'channel', 'hour']\n",
    "respond = 'is_attributed'"
   ]
  },
  {
   "cell_type": "code",
   "execution_count": 5,
   "metadata": {
    "collapsed": true
   },
   "outputs": [],
   "source": [
    "xgtrain = lgb.Dataset(train[features].values, \n",
    "                      label=train[respond].values,\n",
    "                      feature_name=features,\n",
    "                      categorical_feature=categorical,\n",
    "                      )"
   ]
  },
  {
   "cell_type": "code",
   "execution_count": 6,
   "metadata": {
    "collapsed": true
   },
   "outputs": [],
   "source": [
    "xgtrain.save_binary('data/train_features.bin')"
   ]
  },
  {
   "cell_type": "code",
   "execution_count": null,
   "metadata": {
    "collapsed": true
   },
   "outputs": [],
   "source": [
    "del train\n",
    "gc.collect()"
   ]
  },
  {
   "cell_type": "code",
   "execution_count": 7,
   "metadata": {
    "collapsed": true
   },
   "outputs": [],
   "source": [
    "xgvalid = xgtrain.create_valid(valid[features].values, \n",
    "                               label=valid[respond].values)"
   ]
  },
  {
   "cell_type": "code",
   "execution_count": 10,
   "metadata": {},
   "outputs": [
    {
     "data": {
      "text/html": [
       "<div>\n",
       "<style>\n",
       "    .dataframe thead tr:only-child th {\n",
       "        text-align: right;\n",
       "    }\n",
       "\n",
       "    .dataframe thead th {\n",
       "        text-align: left;\n",
       "    }\n",
       "\n",
       "    .dataframe tbody tr th {\n",
       "        vertical-align: top;\n",
       "    }\n",
       "</style>\n",
       "<table border=\"1\" class=\"dataframe\">\n",
       "  <thead>\n",
       "    <tr style=\"text-align: right;\">\n",
       "      <th></th>\n",
       "      <th>ip</th>\n",
       "      <th>app</th>\n",
       "      <th>device</th>\n",
       "      <th>os</th>\n",
       "      <th>channel</th>\n",
       "      <th>is_attributed</th>\n",
       "      <th>day</th>\n",
       "      <th>hour</th>\n",
       "      <th>app_count</th>\n",
       "      <th>ip_count</th>\n",
       "      <th>...</th>\n",
       "      <th>app_channel_day_hour_uniq_os_countUniq</th>\n",
       "      <th>app_device_channel_uniq_ip_countUniq</th>\n",
       "      <th>ip_uniq_hour_countUniq</th>\n",
       "      <th>ip_uniq_os_countUniq</th>\n",
       "      <th>app_channel_nextClick</th>\n",
       "      <th>ip_nextClick</th>\n",
       "      <th>channel_nextClick</th>\n",
       "      <th>ip_device_nextClick</th>\n",
       "      <th>channel_day_nextClick</th>\n",
       "      <th>app_nextClick</th>\n",
       "    </tr>\n",
       "  </thead>\n",
       "  <tbody>\n",
       "    <tr>\n",
       "      <th>0</th>\n",
       "      <td>196491</td>\n",
       "      <td>18</td>\n",
       "      <td>1</td>\n",
       "      <td>19</td>\n",
       "      <td>121</td>\n",
       "      <td>0</td>\n",
       "      <td>9</td>\n",
       "      <td>0</td>\n",
       "      <td>4773490</td>\n",
       "      <td>1076</td>\n",
       "      <td>...</td>\n",
       "      <td>78</td>\n",
       "      <td>46907</td>\n",
       "      <td>16</td>\n",
       "      <td>35</td>\n",
       "      <td>0.0</td>\n",
       "      <td>0.0</td>\n",
       "      <td>0.0</td>\n",
       "      <td>0.0</td>\n",
       "      <td>0.0</td>\n",
       "      <td>0.0</td>\n",
       "    </tr>\n",
       "    <tr>\n",
       "      <th>1</th>\n",
       "      <td>303695</td>\n",
       "      <td>12</td>\n",
       "      <td>1</td>\n",
       "      <td>13</td>\n",
       "      <td>340</td>\n",
       "      <td>0</td>\n",
       "      <td>9</td>\n",
       "      <td>0</td>\n",
       "      <td>6349572</td>\n",
       "      <td>17</td>\n",
       "      <td>...</td>\n",
       "      <td>50</td>\n",
       "      <td>37212</td>\n",
       "      <td>7</td>\n",
       "      <td>5</td>\n",
       "      <td>0.0</td>\n",
       "      <td>0.0</td>\n",
       "      <td>0.0</td>\n",
       "      <td>0.0</td>\n",
       "      <td>0.0</td>\n",
       "      <td>0.0</td>\n",
       "    </tr>\n",
       "    <tr>\n",
       "      <th>2</th>\n",
       "      <td>173807</td>\n",
       "      <td>3</td>\n",
       "      <td>1</td>\n",
       "      <td>37</td>\n",
       "      <td>211</td>\n",
       "      <td>0</td>\n",
       "      <td>9</td>\n",
       "      <td>0</td>\n",
       "      <td>9340315</td>\n",
       "      <td>804</td>\n",
       "      <td>...</td>\n",
       "      <td>58</td>\n",
       "      <td>40934</td>\n",
       "      <td>16</td>\n",
       "      <td>38</td>\n",
       "      <td>0.0</td>\n",
       "      <td>62.0</td>\n",
       "      <td>0.0</td>\n",
       "      <td>62.0</td>\n",
       "      <td>0.0</td>\n",
       "      <td>0.0</td>\n",
       "    </tr>\n",
       "    <tr>\n",
       "      <th>3</th>\n",
       "      <td>37350</td>\n",
       "      <td>9</td>\n",
       "      <td>1</td>\n",
       "      <td>18</td>\n",
       "      <td>134</td>\n",
       "      <td>0</td>\n",
       "      <td>9</td>\n",
       "      <td>0</td>\n",
       "      <td>6213966</td>\n",
       "      <td>2327</td>\n",
       "      <td>...</td>\n",
       "      <td>67</td>\n",
       "      <td>38467</td>\n",
       "      <td>16</td>\n",
       "      <td>43</td>\n",
       "      <td>0.0</td>\n",
       "      <td>0.0</td>\n",
       "      <td>0.0</td>\n",
       "      <td>0.0</td>\n",
       "      <td>0.0</td>\n",
       "      <td>0.0</td>\n",
       "    </tr>\n",
       "    <tr>\n",
       "      <th>4</th>\n",
       "      <td>37350</td>\n",
       "      <td>3</td>\n",
       "      <td>1</td>\n",
       "      <td>18</td>\n",
       "      <td>280</td>\n",
       "      <td>0</td>\n",
       "      <td>9</td>\n",
       "      <td>0</td>\n",
       "      <td>9340315</td>\n",
       "      <td>2327</td>\n",
       "      <td>...</td>\n",
       "      <td>101</td>\n",
       "      <td>61678</td>\n",
       "      <td>16</td>\n",
       "      <td>43</td>\n",
       "      <td>0.0</td>\n",
       "      <td>4.0</td>\n",
       "      <td>0.0</td>\n",
       "      <td>4.0</td>\n",
       "      <td>0.0</td>\n",
       "      <td>0.0</td>\n",
       "    </tr>\n",
       "  </tbody>\n",
       "</table>\n",
       "<p>5 rows × 35 columns</p>\n",
       "</div>"
      ],
      "text/plain": [
       "       ip  app  device  os  channel  is_attributed  day  hour  app_count  \\\n",
       "0  196491   18       1  19      121              0    9     0    4773490   \n",
       "1  303695   12       1  13      340              0    9     0    6349572   \n",
       "2  173807    3       1  37      211              0    9     0    9340315   \n",
       "3   37350    9       1  18      134              0    9     0    6213966   \n",
       "4   37350    3       1  18      280              0    9     0    9340315   \n",
       "\n",
       "   ip_count      ...        app_channel_day_hour_uniq_os_countUniq  \\\n",
       "0      1076      ...                                            78   \n",
       "1        17      ...                                            50   \n",
       "2       804      ...                                            58   \n",
       "3      2327      ...                                            67   \n",
       "4      2327      ...                                           101   \n",
       "\n",
       "   app_device_channel_uniq_ip_countUniq  ip_uniq_hour_countUniq  \\\n",
       "0                                 46907                      16   \n",
       "1                                 37212                       7   \n",
       "2                                 40934                      16   \n",
       "3                                 38467                      16   \n",
       "4                                 61678                      16   \n",
       "\n",
       "   ip_uniq_os_countUniq  app_channel_nextClick  ip_nextClick  \\\n",
       "0                    35                    0.0           0.0   \n",
       "1                     5                    0.0           0.0   \n",
       "2                    38                    0.0          62.0   \n",
       "3                    43                    0.0           0.0   \n",
       "4                    43                    0.0           4.0   \n",
       "\n",
       "   channel_nextClick  ip_device_nextClick  channel_day_nextClick  \\\n",
       "0                0.0                  0.0                    0.0   \n",
       "1                0.0                  0.0                    0.0   \n",
       "2                0.0                 62.0                    0.0   \n",
       "3                0.0                  0.0                    0.0   \n",
       "4                0.0                  4.0                    0.0   \n",
       "\n",
       "   app_nextClick  \n",
       "0            0.0  \n",
       "1            0.0  \n",
       "2            0.0  \n",
       "3            0.0  \n",
       "4            0.0  \n",
       "\n",
       "[5 rows x 35 columns]"
      ]
     },
     "execution_count": 10,
     "metadata": {},
     "output_type": "execute_result"
    }
   ],
   "source": [
    "valid.head()"
   ]
  },
  {
   "cell_type": "code",
   "execution_count": 16,
   "metadata": {
    "collapsed": true
   },
   "outputs": [],
   "source": [
    "# bug?\n",
    "xgvalid.feature_name = features\n",
    "xgvalid.categorical_feature = categorical"
   ]
  },
  {
   "cell_type": "code",
   "execution_count": 17,
   "metadata": {
    "collapsed": true
   },
   "outputs": [],
   "source": [
    "xgvalid.save_binary('data/valid_features.bin')"
   ]
  },
  {
   "cell_type": "code",
   "execution_count": null,
   "metadata": {
    "collapsed": true
   },
   "outputs": [],
   "source": []
  }
 ],
 "metadata": {
  "kernelspec": {
   "display_name": "Python 3",
   "language": "python",
   "name": "python3"
  },
  "language_info": {
   "codemirror_mode": {
    "name": "ipython",
    "version": 3
   },
   "file_extension": ".py",
   "mimetype": "text/x-python",
   "name": "python",
   "nbconvert_exporter": "python",
   "pygments_lexer": "ipython3",
   "version": "3.6.3"
  }
 },
 "nbformat": 4,
 "nbformat_minor": 2
}
