{
 "cells": [
  {
   "cell_type": "code",
   "execution_count": 1,
   "metadata": {},
   "outputs": [],
   "source": [
    "import itertools\n",
    "import numpy as np\n",
    "import pandas as pd\n",
    "import gc"
   ]
  },
  {
   "cell_type": "code",
   "execution_count": 2,
   "metadata": {},
   "outputs": [],
   "source": [
    "def count_agg(df, group_cols):\n",
    "    col_name = \"_\".join(group_cols)+'_count'\n",
    "    count = df.groupby(group_cols).size().reset_index(name=col_name)\n",
    "    df = df.merge(count, on=group_cols, how='left')\n",
    "    del count\n",
    "    gc.collect()\n",
    "    return df\n",
    "\n",
    "def count_cum(df, group_cols):\n",
    "    col_name = \"_\".join(group_cols)+'_countAccum'\n",
    "    df[col_name] = df.groupby(group_cols).cumcount()\n",
    "    gc.collect()\n",
    "    return df\n",
    "\n",
    "def count_uniq(df, group_cols, uniq_col):\n",
    "    col_name = \"_\".join(group_cols)+'_uniq_'+uniq_col+'_countUniq'\n",
    "    tmp = df.groupby(group_cols)[uniq_col].nunique().reset_index(name=col_name)\n",
    "    df = df.merge(tmp, on=group_cols, how='left')\n",
    "    del tmp\n",
    "    gc.collect()\n",
    "    return df\n",
    "\n",
    "def next_click(df, group_cols):\n",
    "    df[\"_\".join(group_cols)+'_nextClick'] = (df.groupby(group_cols).click_time.shift(-1) - df.click_time).astype(np.float32)\n",
    "    gc.collect()\n",
    "    return df"
   ]
  },
  {
   "cell_type": "code",
   "execution_count": null,
   "metadata": {},
   "outputs": [],
   "source": [
    "dtype = {\n",
    "    'ip': np.int32,\n",
    "    'app': np.int16,\n",
    "    'device': np.int16,\n",
    "    'os': np.int16,\n",
    "    'channel': np.int16,\n",
    "    'click_time': object,\n",
    "    'is_attributed': np.int16\n",
    "}\n",
    "\n",
    "df = pd.read_csv('train.csv', dtype=dtype, usecols=dtype.keys(), parse_dates=['click_time'])"
   ]
  },
  {
   "cell_type": "code",
   "execution_count": null,
   "metadata": {},
   "outputs": [],
   "source": [
    "# times\n",
    "print('generating time features...')\n",
    "df['click_time']= pd.to_datetime(df['click_time'])\n",
    "df['day'] = df['click_time'].dt.day.astype('uint8')\n",
    "df['hour'] = df['click_time'].dt.hour.astype('uint8')\n",
    "df['click_time'] = (df['click_time'].astype(np.int64) // 10 ** 9).astype(np.int32)\n",
    "df['index'] = df.index\n",
    "print('done')"
   ]
  },
  {
   "cell_type": "code",
   "execution_count": null,
   "metadata": {},
   "outputs": [],
   "source": [
    "train = df[df.day != 9]\n",
    "valid = df[df.day == 9]"
   ]
  },
  {
   "cell_type": "code",
   "execution_count": null,
   "metadata": {},
   "outputs": [],
   "source": [
    "train = train.reset_index(drop=True)\n",
    "valid = valid.reset_index(drop=True)\n",
    "print('dumping')\n",
    "train.to_feather('train.ftr')\n",
    "valid.to_feather('valid.ftr')\n",
    "print('done')"
   ]
  },
  {
   "cell_type": "markdown",
   "metadata": {},
   "source": [
    "# Feature Engineering"
   ]
  },
  {
   "cell_type": "markdown",
   "metadata": {},
   "source": [
    "## count"
   ]
  },
  {
   "cell_type": "code",
   "execution_count": null,
   "metadata": {},
   "outputs": [],
   "source": [
    "print('loading...')\n",
    "df = pd.read_feather('valid.ftr')\n",
    "print('Done')\n",
    "# count agg features\n",
    "count_combinations = [\n",
    "    ['app'],\n",
    "    ['ip'],\n",
    "    ['app', 'channel'],\n",
    "    ['ip', 'device'],\n",
    "    ['ip', 'day'],\n",
    "    ['app', 'channel', 'hour'],\n",
    "    ['app', 'channel', 'day'],\n",
    "    ['app', 'channel', 'day', 'hour']\n",
    "]\n",
    "for i, cols in enumerate(count_combinations):\n",
    "    print(i, cols)\n",
    "    df = count_agg(df, cols)"
   ]
  },
  {
   "cell_type": "code",
   "execution_count": null,
   "metadata": {},
   "outputs": [],
   "source": [
    "feats = [\n",
    "    'index', \n",
    "    'app_count', \n",
    "    'ip_count', \n",
    "    'app_channel_count',\n",
    "    'ip_device_count', \n",
    "    'ip_day_count', \n",
    "    'app_channel_hour_count',\n",
    "    'app_channel_day_count', \n",
    "    'app_channel_day_hour_count'\n",
    "]\n",
    "df = df[feats]\n",
    "df.to_feather('valid_count.ftr')"
   ]
  },
  {
   "cell_type": "markdown",
   "metadata": {},
   "source": [
    "## agg"
   ]
  },
  {
   "cell_type": "code",
   "execution_count": null,
   "metadata": {},
   "outputs": [],
   "source": [
    "print('loading...')\n",
    "df = pd.read_feather('valid.ftr')\n",
    "print('Done')\n",
    "# accumulate count agg features\n",
    "countAccum_combinations = [\n",
    "    ['ip'],\n",
    "    ['channel'],\n",
    "    ['app'],\n",
    "    ['device'],\n",
    "    ['app', 'channel'],\n",
    "    ['app', 'channel', 'day'],\n",
    "    ['channel', 'day', 'hour'],\n",
    "    ['device', 'channel', 'day', 'hour'],\n",
    "    ['app', 'channel', 'day', 'hour'],\n",
    "    ['app', 'device', 'channel', 'day', 'hour'],\n",
    "    ['ip', 'day'],\n",
    "    ['ip', 'device']\n",
    "]\n",
    "\n",
    "df = df.sort_values(by=['click_time'])\n",
    "for i, cols in enumerate(countAccum_combinations):\n",
    "    print(i, cols)\n",
    "    df = count_cum(df, cols)"
   ]
  },
  {
   "cell_type": "code",
   "execution_count": null,
   "metadata": {},
   "outputs": [],
   "source": [
    "feats = [\n",
    "    'index', \n",
    "    'ip_countAccum', \n",
    "    'channel_countAccum',\n",
    "    'app_countAccum', \n",
    "    'device_countAccum', \n",
    "    'app_channel_countAccum',\n",
    "    'app_channel_day_countAccum', \n",
    "    'channel_day_hour_countAccum',\n",
    "    'device_channel_day_hour_countAccum', \n",
    "    'app_channel_day_hour_countAccum',\n",
    "    'app_device_channel_day_hour_countAccum', \n",
    "    'ip_day_countAccum',\n",
    "    'ip_device_countAccum'\n",
    "]\n",
    "df = df[feats]\n",
    "df = df.reset_index(drop=True)\n",
    "df.to_feather('valid_accum.ftr')"
   ]
  },
  {
   "cell_type": "markdown",
   "metadata": {},
   "source": [
    "## unique"
   ]
  },
  {
   "cell_type": "code",
   "execution_count": null,
   "metadata": {},
   "outputs": [],
   "source": [
    "print('loading...')\n",
    "df = pd.read_feather('valid.ftr')\n",
    "print('Done')\n",
    "# unique count agg features\n",
    "countUniq_combinations = [\n",
    "    [['app'], 'ip'],\n",
    "    [['app', 'day'], 'ip'],\n",
    "    [['app', 'device', 'channel'], 'ip'],\n",
    "    [['app', 'hour', 'channel'], 'ip'],\n",
    "    [['ip'], 'channel'],\n",
    "    [['ip'], 'app'],\n",
    "    [['ip'], 'hour'],\n",
    "    [['ip'], 'os'],\n",
    "    [['app', 'channel', 'hour'], 'os'],\n",
    "    [['app', 'channel', 'day', 'hour'], 'os'],\n",
    "]\n",
    "for i, cols in enumerate(countUniq_combinations):\n",
    "    print(i, cols)\n",
    "    df = count_uniq(df, cols[0], cols[1])"
   ]
  },
  {
   "cell_type": "code",
   "execution_count": null,
   "metadata": {},
   "outputs": [],
   "source": [
    "feats = [\n",
    "    'index', \n",
    "    'app_uniq_ip_countUniq',\n",
    "    'app_day_uniq_ip_countUniq', \n",
    "    'app_device_channel_uniq_ip_countUniq',\n",
    "    'app_hour_channel_uniq_ip_countUniq', \n",
    "    'ip_uniq_channel_countUniq',\n",
    "    'ip_uniq_app_countUniq', \n",
    "    'ip_uniq_hour_countUniq',\n",
    "    'ip_uniq_os_countUniq', \n",
    "    'app_channel_hour_uniq_os_countUniq',\n",
    "    'app_channel_day_hour_uniq_os_countUniq'\n",
    "]\n",
    "df = df[feats]\n",
    "df = df.reset_index(drop=True)\n",
    "df.to_feather('valid_uniq.ftr')"
   ]
  },
  {
   "cell_type": "code",
   "execution_count": 3,
   "metadata": {},
   "outputs": [
    {
     "name": "stdout",
     "output_type": "stream",
     "text": [
      "loading...\n",
      "Done\n",
      "0 ['ip']\n",
      "1 ['channel']\n",
      "2 ['ip', 'device']\n",
      "3 ['channel', 'day']\n",
      "4 ['app', 'channel']\n",
      "5 ['ip', 'app']\n",
      "6 ['ip', 'app', 'os']\n",
      "7 ['ip', 'app', 'os', 'device']\n",
      "8 ['ip', 'app', 'os', 'device', 'channel']\n"
     ]
    }
   ],
   "source": [
    "print('loading...')\n",
    "df = pd.read_feather('valid.ftr')\n",
    "print('Done')\n",
    "# next click features\n",
    "next_click_combinations = [\n",
    "    ['ip'],\n",
    "    ['channel'],\n",
    "    ['ip', 'device'],\n",
    "    ['channel', 'day'],\n",
    "    ['app', 'channel'],\n",
    "    ['ip', 'app'],\n",
    "    ['ip', 'app', 'os'],\n",
    "    ['ip', 'app', 'os', 'device'],\n",
    "    ['ip', 'app', 'os', 'device', 'channel'],\n",
    "]\n",
    "for i, cols in enumerate(next_click_combinations):\n",
    "    print(i, cols)\n",
    "    df = next_click(df, cols)"
   ]
  },
  {
   "cell_type": "code",
   "execution_count": 4,
   "metadata": {},
   "outputs": [],
   "source": [
    "feats = [\n",
    "    'index', \n",
    "    'ip_nextClick', \n",
    "    'channel_nextClick',\n",
    "    'ip_device_nextClick', \n",
    "    'channel_day_nextClick', \n",
    "    'app_channel_nextClick',\n",
    "    'ip_app_nextClick', \n",
    "    'ip_app_os_nextClick', \n",
    "    'ip_app_os_device_nextClick',\n",
    "    'ip_app_os_device_channel_nextClick'\n",
    "]\n",
    "df = df[feats]\n",
    "df = df.reset_index(drop=True)\n",
    "df.to_feather('valid_nextClick.ftr')"
   ]
  },
  {
   "cell_type": "code",
   "execution_count": null,
   "metadata": {},
   "outputs": [],
   "source": []
  }
 ],
 "metadata": {
  "kernelspec": {
   "display_name": "Python 3",
   "language": "python",
   "name": "python3"
  },
  "language_info": {
   "codemirror_mode": {
    "name": "ipython",
    "version": 3
   },
   "file_extension": ".py",
   "mimetype": "text/x-python",
   "name": "python",
   "nbconvert_exporter": "python",
   "pygments_lexer": "ipython3",
   "version": "3.6.4"
  }
 },
 "nbformat": 4,
 "nbformat_minor": 2
}
