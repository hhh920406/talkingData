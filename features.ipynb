{
 "cells": [
  {
   "cell_type": "code",
   "execution_count": 1,
   "metadata": {
    "collapsed": true
   },
   "outputs": [],
   "source": [
    "import os\n",
    "import gc\n",
    "import time\n",
    "from time import gmtime, strftime\n",
    "\n",
    "from sklearn.model_selection import train_test_split\n",
    "import lightgbm as lgb\n",
    "import xgboost as xgb\n",
    "import numpy as np\n",
    "import pandas as pd\n",
    "%matplotlib inline"
   ]
  },
  {
   "cell_type": "markdown",
   "metadata": {},
   "source": [
    "# Features"
   ]
  },
  {
   "cell_type": "code",
   "execution_count": 2,
   "metadata": {
    "collapsed": true
   },
   "outputs": [],
   "source": [
    "def count_agg(df, group_cols):\n",
    "    col_name = \"_\".join(group_cols)+'_count'\n",
    "    count = df.groupby(group_cols).size().reset_index(name=col_name)\n",
    "    df = df.merge(count, on=group_cols, how='left')\n",
    "    del count\n",
    "    gc.collect()\n",
    "    return df\n",
    "\n",
    "def count_cum(df, group_cols):\n",
    "    col_name = \"_\".join(group_cols)+'_countAccum'\n",
    "    df[col_name] = df.groupby(group_cols).cumcount()\n",
    "    gc.collect()\n",
    "    return df\n",
    "\n",
    "def count_uniq(df, group_cols, uniq_col):\n",
    "    col_name = \"_\".join(group_cols)+'_uniq_'+uniq_col+'_countUniq'\n",
    "    tmp = df.groupby(group_cols)[uniq_col].nunique().reset_index(name=col_name)\n",
    "    df = df.merge(tmp, on=group_cols, how='left')\n",
    "    del tmp\n",
    "    gc.collect()\n",
    "    return df\n",
    "\n",
    "def next_click(df, group_cols):\n",
    "    df[\"_\".join(group_cols)+'_nextClick'] = (df.groupby(group_cols).click_time.shift(-1) - df.click_time).astype(np.float32)\n",
    "    gc.collect()\n",
    "    return df"
   ]
  },
  {
   "cell_type": "code",
   "execution_count": 3,
   "metadata": {
    "collapsed": true
   },
   "outputs": [],
   "source": [
    "def generate_features(df):\n",
    "    print('generating time features...')\n",
    "    df['day'] = df['click_time'].dt.day.astype('uint8')\n",
    "    df['hour'] = df['click_time'].dt.hour.astype('uint8')\n",
    "    df['in_test_hh'] = (3\n",
    "                        - 2 * df['hour'].isin([4, 5, 9, 10, 13, 14]) # most frequent\n",
    "                        - 1 * df['hour'].isin([6, 11, 15])).astype('uint8') # least frequent\n",
    "    print('done')\n",
    "    gc.collect()\n",
    "    \n",
    "    count_combinations = [\n",
    "        ['app'],\n",
    "        ['ip', 'device'], # 9.88\n",
    "        ['day', 'hour', 'app'], # 4.08\n",
    "        ['ip'], # 3.03\n",
    "        ['app', 'channel'], # 2.8\n",
    "        ['ip', 'day', 'in_test_hh'], # 1.74\n",
    "        ['os', 'app', 'channel'], # 0.72\n",
    "        ['ip', 'day', 'hour'], # 0.52\n",
    "        ['os', 'device'], # 0.44\n",
    "        ['ip', 'os', 'day', 'hour'], # 0.41\n",
    "        ['ip', 'app', 'day', 'hour'], # 0.28\n",
    "        ['ip', 'device', 'day', 'hour'], # 0.31\n",
    "        ['ip', 'app', 'os'] # 0.21\n",
    "    ]\n",
    "    \n",
    "    countUniq_combinations = [\n",
    "        [['ip'], 'channel'], # 0.9\n",
    "        [['ip'], 'app'], # 1.3\n",
    "        [['ip'], 'os'] # 0.45\n",
    "    ]\n",
    "    \n",
    "    nextClick_combinations = [\n",
    "        ['ip', 'app', 'device', 'os'],\n",
    "        ['ip', 'app', 'device', 'os', 'channel'],\n",
    "        ['ip', 'os', 'device'],\n",
    "        ['ip', 'os', 'device', 'app']\n",
    "    ]\n",
    "\n",
    "    # count features\n",
    "    for i, cols in enumerate(count_combinations):\n",
    "        print(i, cols)\n",
    "        df = count_agg(df, cols)\n",
    "\n",
    "    # count unique features\n",
    "    for i, cols in enumerate(countUniq_combinations):\n",
    "        print(i, cols)\n",
    "        df = count_uniq(df, cols[0], cols[1])\n",
    "    \n",
    "    # next click features\n",
    "    df['click_time'] = (df['click_time'].astype(np.int64) // 10 ** 9).astype(np.int32)\n",
    "    for i, cols in enumerate(nextClick_combinations):\n",
    "        print(i, cols)\n",
    "        df = next_click(df, cols)\n",
    "    \n",
    "    df.drop(['ip', 'click_time', 'day', 'in_test_hh'], axis=1, inplace=True)\n",
    "    gc.collect()\n",
    "    print(df.info())\n",
    "    return df"
   ]
  },
  {
   "cell_type": "markdown",
   "metadata": {},
   "source": [
    "# Load Data"
   ]
  },
  {
   "cell_type": "code",
   "execution_count": 4,
   "metadata": {
    "collapsed": true
   },
   "outputs": [],
   "source": [
    "dtype = {\n",
    "    'ip' :'uint32',\n",
    "    'app' :'uint16',\n",
    "    'device': 'uint16',\n",
    "    'os' :'uint16',\n",
    "    'channel': 'uint16',\n",
    "    'is_attributed': 'uint8',\n",
    "    'click_id': 'uint32',\n",
    "}\n",
    "\n",
    "# train: (184903890, 7)\n",
    "# test: (18790469, 7)\n",
    "train_cols = ['ip', 'app', 'device', 'os', 'channel', 'click_time', 'is_attributed']\n",
    "train_df = pd.read_csv('data/train.csv', skiprows=range(1, 84903891), nrows=100000000,\n",
    "                       dtype=dtype, usecols=train_cols, parse_dates=['click_time'])\n",
    "\n",
    "test_cols = ['ip', 'app', 'device', 'os', 'channel', 'click_time', 'click_id']\n",
    "# using test_supplement \n",
    "test_df = pd.read_csv('data/test_supplement.csv', dtype=dtype, usecols=test_cols, parse_dates=['click_time'])"
   ]
  },
  {
   "cell_type": "code",
   "execution_count": 5,
   "metadata": {
    "collapsed": true
   },
   "outputs": [],
   "source": [
    "# combine train and test data\n",
    "common_cols = ['ip', 'app', 'device', 'os', 'channel', 'click_time']\n",
    "all_df = pd.concat([train_df[common_cols], test_df[common_cols]])"
   ]
  },
  {
   "cell_type": "code",
   "execution_count": 6,
   "metadata": {
    "scrolled": true
   },
   "outputs": [
    {
     "name": "stdout",
     "output_type": "stream",
     "text": [
      "generating time features...\n",
      "done\n",
      "0 ['app']\n",
      "1 ['ip', 'device']\n",
      "2 ['day', 'hour', 'app']\n",
      "3 ['ip']\n",
      "4 ['app', 'channel']\n",
      "5 ['ip', 'day', 'in_test_hh']\n",
      "6 ['os', 'app', 'channel']\n",
      "7 ['ip', 'day', 'hour']\n",
      "8 ['os', 'device']\n",
      "9 ['ip', 'os', 'day', 'hour']\n",
      "10 ['ip', 'app', 'day', 'hour']\n",
      "11 ['ip', 'device', 'day', 'hour']\n",
      "12 ['ip', 'app', 'os']\n",
      "0 [['ip'], 'channel']\n",
      "1 [['ip'], 'app']\n",
      "2 [['ip'], 'os']\n",
      "0 ['ip', 'app', 'device', 'os']\n",
      "1 ['ip', 'app', 'device', 'os', 'channel']\n",
      "2 ['ip', 'os', 'device']\n",
      "3 ['ip', 'os', 'device', 'app']\n",
      "<class 'pandas.core.frame.DataFrame'>\n",
      "Int64Index: 157537505 entries, 0 to 157537504\n",
      "Data columns (total 25 columns):\n",
      "app                                   uint16\n",
      "device                                uint16\n",
      "os                                    uint16\n",
      "channel                               uint16\n",
      "hour                                  uint8\n",
      "app_count                             int64\n",
      "ip_device_count                       int64\n",
      "day_hour_app_count                    int64\n",
      "ip_count                              int64\n",
      "app_channel_count                     int64\n",
      "ip_day_in_test_hh_count               int64\n",
      "os_app_channel_count                  int64\n",
      "ip_day_hour_count                     int64\n",
      "os_device_count                       int64\n",
      "ip_os_day_hour_count                  int64\n",
      "ip_app_day_hour_count                 int64\n",
      "ip_device_day_hour_count              int64\n",
      "ip_app_os_count                       int64\n",
      "ip_uniq_channel_countUniq             int64\n",
      "ip_uniq_app_countUniq                 int64\n",
      "ip_uniq_os_countUniq                  int64\n",
      "ip_app_device_os_nextClick            float32\n",
      "ip_app_device_os_channel_nextClick    float32\n",
      "ip_os_device_nextClick                float32\n",
      "ip_os_device_app_nextClick            float32\n",
      "dtypes: float32(4), int64(16), uint16(4), uint8(1)\n",
      "memory usage: 23.6 GB\n",
      "None\n"
     ]
    }
   ],
   "source": [
    "# generate data\n",
    "all_df = generate_features(all_df)"
   ]
  },
  {
   "cell_type": "code",
   "execution_count": 7,
   "metadata": {},
   "outputs": [
    {
     "data": {
      "text/plain": [
       "24"
      ]
     },
     "execution_count": 7,
     "metadata": {},
     "output_type": "execute_result"
    }
   ],
   "source": [
    "# split train/test features from concated data\n",
    "train_features = all_df.iloc[:train_df.shape[0]]\n",
    "test_features = all_df.iloc[train_df.shape[0]:]\n",
    "gc.collect()"
   ]
  },
  {
   "cell_type": "markdown",
   "metadata": {},
   "source": [
    "# Train LightGBM Model"
   ]
  },
  {
   "cell_type": "code",
   "execution_count": null,
   "metadata": {
    "collapsed": true
   },
   "outputs": [],
   "source": [
    "metrics = 'auc'\n",
    "lgb_params = {\n",
    "    'boosting_type': 'gbdt',\n",
    "    'objective': 'binary',\n",
    "    'metric': metrics,\n",
    "    'learning_rate': 0.1,\n",
    "    'num_leaves': 7,\n",
    "    'max_depth': 4,\n",
    "    'min_child_samples': 100,\n",
    "    'max_bin': 100,\n",
    "    'subsample': 0.7,\n",
    "    'subsample_freq': 1,\n",
    "    'colsample_bytree': 0.7,\n",
    "    'min_child_weight': 0,\n",
    "    'min_split_gain': 0,\n",
    "    'nthread': 24,\n",
    "    'verbose': 1,\n",
    "    'scale_pos_weight': 200\n",
    "}\n",
    "\n",
    "target = 'is_attributed'\n",
    "features = [col for col in train_features.columns if col not in ['is_attributed']]\n",
    "category = ['app', 'device', 'os', 'channel', 'hour']"
   ]
  },
  {
   "cell_type": "code",
   "execution_count": null,
   "metadata": {
    "collapsed": true
   },
   "outputs": [],
   "source": [
    "# train valid split\n",
    "labels = train_df.is_attributed.values\n",
    "train_features, valid_features = train_test_split(train_features, train_size=.95, shuffle=False)\n",
    "train_labels, valid_labels = train_test_split(labels, train_size=.95, shuffle=False)\n",
    "print('Train size:', len(train_features))\n",
    "print('Valid size:', len(valid_features))\n",
    "gc.collect()"
   ]
  },
  {
   "cell_type": "code",
   "execution_count": null,
   "metadata": {
    "collapsed": true
   },
   "outputs": [],
   "source": [
    "# convert data into dataset. Warning: Memory Peak\n",
    "xgtrain = lgb.Dataset(train_features[features].values, \n",
    "                      label=train_labels,\n",
    "                      feature_name=features,\n",
    "                      categorical_feature=category)"
   ]
  },
  {
   "cell_type": "code",
   "execution_count": null,
   "metadata": {
    "collapsed": true
   },
   "outputs": [],
   "source": [
    "xgvalid = lgb.Dataset(valid_features[features].values, \n",
    "                      label=valid_labels,\n",
    "                      feature_name=features,\n",
    "                      categorical_feature=category)"
   ]
  },
  {
   "cell_type": "code",
   "execution_count": null,
   "metadata": {
    "collapsed": true,
    "scrolled": true
   },
   "outputs": [],
   "source": [
    "print('Training...')\n",
    "evals_results = {}\n",
    "model = lgb.train(lgb_params,\n",
    "                  xgtrain,\n",
    "                  valid_sets=[xgvalid],\n",
    "                  valid_names=['valid'],\n",
    "                  evals_result=evals_results,\n",
    "                  num_boost_round=1000,\n",
    "                  early_stopping_rounds=50,\n",
    "                  verbose_eval=1,\n",
    "                  feval=None)\n",
    "n_estimators = model.best_iteration\n",
    "\n",
    "print('\\nModel Info:')\n",
    "print('n_estimators:', n_estimators)\n",
    "print(metrics + ':', evals_results['valid'][metrics][n_estimators - 1])\n",
    "\n",
    "gain = model.feature_importance('gain')\n",
    "ft = pd.DataFrame({'feature': model.feature_name(), 'split': model.feature_importance('split'),\n",
    "                   'gain': 100 * gain / gain.sum()}).sort_values('gain', ascending=False)\n",
    "ft.to_csv('feature_importance_ref.csv', index=False)\n",
    "print(ft)\n",
    "\n",
    "model_name = 'model-%s' % strftime(\"%Y-%m-%d-%H-%M-%S\", gmtime())\n",
    "model.save_model(model_name)\n",
    "print('model saved as %s' % model_name)"
   ]
  },
  {
   "cell_type": "markdown",
   "metadata": {},
   "source": [
    "# LGB Prediction"
   ]
  },
  {
   "cell_type": "code",
   "execution_count": null,
   "metadata": {
    "collapsed": true
   },
   "outputs": [],
   "source": [
    "print('Predicting...')\n",
    "test_df['is_attributed'] = model.predict(test_features[features], num_iteration=model.best_iteration)"
   ]
  },
  {
   "cell_type": "code",
   "execution_count": null,
   "metadata": {
    "collapsed": true,
    "scrolled": true
   },
   "outputs": [],
   "source": [
    "print('loading test')\n",
    "test = pd.read_csv('data/test.csv', dtype=dtype, usecols=test_cols, parse_dates=['click_time'])"
   ]
  },
  {
   "cell_type": "code",
   "execution_count": null,
   "metadata": {
    "collapsed": true
   },
   "outputs": [],
   "source": [
    "print('merging test_supplement to test')\n",
    "join_cols = ['ip', 'app', 'device', 'os', 'channel', 'click_time']\n",
    "all_cols = join_cols + ['is_attributed']\n",
    "\n",
    "test = test.merge(test_df[all_cols], how='left', on=join_cols)\n",
    "test = test.drop_duplicates(subset=['click_id'])\n",
    "\n",
    "print(\"Writing the submission data into a csv file...\")\n",
    "test[['click_id', 'is_attributed']].to_csv('submit_lgb.gz', index=False, float_format='%.9f', compression='gzip')\n",
    "print(\"All done...\")"
   ]
  },
  {
   "cell_type": "code",
   "execution_count": null,
   "metadata": {
    "collapsed": true
   },
   "outputs": [],
   "source": [
    "#model = lgb.Booster(model_file='model-2018-05-03-09-35-27')\n",
    "#submit['is_attributed'] = model.predict(test_df[features], num_iteration=616)"
   ]
  },
  {
   "cell_type": "code",
   "execution_count": null,
   "metadata": {
    "collapsed": true
   },
   "outputs": [],
   "source": [
    "del xgtrain\n",
    "del xgvalid\n",
    "gc.collect()"
   ]
  },
  {
   "cell_type": "markdown",
   "metadata": {},
   "source": [
    "# Train XGBoost"
   ]
  },
  {
   "cell_type": "code",
   "execution_count": 8,
   "metadata": {
    "collapsed": true
   },
   "outputs": [],
   "source": [
    "xgb_params = {'eta': 0.1,\n",
    "              'tree_method': \"hist\",\n",
    "              'grow_policy': \"lossguide\",\n",
    "              # 'max_leaves': 1400,  \n",
    "              'max_depth': 4, \n",
    "              'subsample': 0.7, \n",
    "              'colsample_bytree': 0.7, \n",
    "              'colsample_bylevel':0.7,\n",
    "              'min_child_weight':0,\n",
    "              'alpha':0,\n",
    "              'objective': 'binary:logistic', \n",
    "              'eval_metric': 'auc',\n",
    "              'nthread':24,\n",
    "              'random_state': 42,\n",
    "              'scale_pos_weight':200,\n",
    "              'silent': True}"
   ]
  },
  {
   "cell_type": "code",
   "execution_count": 9,
   "metadata": {},
   "outputs": [
    {
     "name": "stderr",
     "output_type": "stream",
     "text": [
      "/home/ubuntu/anaconda3/lib/python3.6/site-packages/sklearn/model_selection/_split.py:2026: FutureWarning: From version 0.21, test_size will always complement train_size unless both are specified.\n",
      "  FutureWarning)\n"
     ]
    },
    {
     "name": "stdout",
     "output_type": "stream",
     "text": [
      "Train size: 95000000\n",
      "Valid size: 5000000\n"
     ]
    },
    {
     "data": {
      "text/plain": [
       "12"
      ]
     },
     "execution_count": 9,
     "metadata": {},
     "output_type": "execute_result"
    }
   ],
   "source": [
    "# train valid split\n",
    "labels = train_df.is_attributed.values\n",
    "train_features, valid_features = train_test_split(train_features, train_size=.95, shuffle=False)\n",
    "train_labels, valid_labels = train_test_split(labels, train_size=.95, shuffle=False)\n",
    "print('Train size:', len(train_features))\n",
    "print('Valid size:', len(valid_features))\n",
    "gc.collect()"
   ]
  },
  {
   "cell_type": "code",
   "execution_count": null,
   "metadata": {
    "collapsed": true
   },
   "outputs": [],
   "source": [
    "# xgb will handle dataframe directly, great! just tell her which columns are categorial\n",
    "for col in ['app', 'device', 'os', 'channel', 'hour']:\n",
    "    train_features[col] = train_features[col].astype('category')\n",
    "    valid_features[col] = valid_features[col].astype('category')"
   ]
  },
  {
   "cell_type": "code",
   "execution_count": 10,
   "metadata": {
    "collapsed": true
   },
   "outputs": [],
   "source": [
    "dtrain = xgb.DMatrix(train_features, train_labels)\n",
    "dvalid = xgb.DMatrix(valid_features, valid_labels)\n",
    "watchlist = [(dvalid, 'valid')]"
   ]
  },
  {
   "cell_type": "code",
   "execution_count": 12,
   "metadata": {
    "scrolled": true
   },
   "outputs": [
    {
     "name": "stdout",
     "output_type": "stream",
     "text": [
      "[0]\tvalid-auc:0.958325\n",
      "Will train until valid-auc hasn't improved in 50 rounds.\n",
      "[5]\tvalid-auc:0.965192\n",
      "[10]\tvalid-auc:0.96783\n",
      "[15]\tvalid-auc:0.971056\n",
      "[20]\tvalid-auc:0.972209\n",
      "[25]\tvalid-auc:0.973376\n",
      "[30]\tvalid-auc:0.974533\n",
      "[35]\tvalid-auc:0.976185\n",
      "[40]\tvalid-auc:0.978193\n",
      "[45]\tvalid-auc:0.979578\n",
      "[50]\tvalid-auc:0.980908\n",
      "[55]\tvalid-auc:0.981792\n",
      "[60]\tvalid-auc:0.982481\n",
      "[65]\tvalid-auc:0.98312\n",
      "[70]\tvalid-auc:0.98367\n",
      "[75]\tvalid-auc:0.984076\n",
      "[80]\tvalid-auc:0.984599\n",
      "[85]\tvalid-auc:0.98491\n",
      "[90]\tvalid-auc:0.985202\n",
      "[95]\tvalid-auc:0.985609\n",
      "[100]\tvalid-auc:0.98581\n",
      "[105]\tvalid-auc:0.986106\n",
      "[110]\tvalid-auc:0.986383\n",
      "[115]\tvalid-auc:0.986489\n",
      "[120]\tvalid-auc:0.986609\n",
      "[125]\tvalid-auc:0.986828\n",
      "[130]\tvalid-auc:0.987012\n",
      "[135]\tvalid-auc:0.987121\n",
      "[140]\tvalid-auc:0.987194\n",
      "[145]\tvalid-auc:0.987355\n",
      "[150]\tvalid-auc:0.987469\n",
      "[155]\tvalid-auc:0.987521\n",
      "[160]\tvalid-auc:0.987629\n",
      "[165]\tvalid-auc:0.987704\n",
      "[170]\tvalid-auc:0.987751\n",
      "[175]\tvalid-auc:0.987793\n",
      "[180]\tvalid-auc:0.987916\n",
      "[185]\tvalid-auc:0.987954\n",
      "[190]\tvalid-auc:0.988077\n",
      "[195]\tvalid-auc:0.988141\n",
      "[200]\tvalid-auc:0.988175\n",
      "[205]\tvalid-auc:0.988175\n",
      "[210]\tvalid-auc:0.988246\n",
      "[215]\tvalid-auc:0.988292\n",
      "[220]\tvalid-auc:0.988351\n",
      "[225]\tvalid-auc:0.988369\n",
      "[230]\tvalid-auc:0.988406\n",
      "[235]\tvalid-auc:0.988454\n",
      "[240]\tvalid-auc:0.988604\n",
      "[245]\tvalid-auc:0.988638\n",
      "[250]\tvalid-auc:0.988716\n",
      "[255]\tvalid-auc:0.98874\n",
      "[260]\tvalid-auc:0.988752\n",
      "[265]\tvalid-auc:0.988812\n",
      "[270]\tvalid-auc:0.988834\n",
      "[275]\tvalid-auc:0.988898\n",
      "[280]\tvalid-auc:0.988978\n",
      "[285]\tvalid-auc:0.989002\n",
      "[290]\tvalid-auc:0.989008\n",
      "[295]\tvalid-auc:0.989024\n",
      "[300]\tvalid-auc:0.989104\n",
      "[305]\tvalid-auc:0.989119\n",
      "[310]\tvalid-auc:0.989123\n",
      "[315]\tvalid-auc:0.989126\n",
      "[320]\tvalid-auc:0.989134\n",
      "[325]\tvalid-auc:0.989169\n",
      "[330]\tvalid-auc:0.989172\n",
      "[335]\tvalid-auc:0.989186\n",
      "[340]\tvalid-auc:0.989192\n",
      "[345]\tvalid-auc:0.989214\n",
      "[350]\tvalid-auc:0.989232\n",
      "[355]\tvalid-auc:0.989237\n",
      "[360]\tvalid-auc:0.989244\n",
      "[365]\tvalid-auc:0.989251\n",
      "[370]\tvalid-auc:0.989257\n",
      "[375]\tvalid-auc:0.989278\n",
      "[380]\tvalid-auc:0.98929\n",
      "[385]\tvalid-auc:0.989312\n",
      "[390]\tvalid-auc:0.989316\n",
      "[395]\tvalid-auc:0.989341\n",
      "[400]\tvalid-auc:0.989359\n",
      "[405]\tvalid-auc:0.989369\n",
      "[410]\tvalid-auc:0.989373\n",
      "[415]\tvalid-auc:0.989386\n",
      "[420]\tvalid-auc:0.989387\n",
      "[425]\tvalid-auc:0.989397\n",
      "[430]\tvalid-auc:0.98941\n",
      "[435]\tvalid-auc:0.989408\n",
      "[440]\tvalid-auc:0.98941\n",
      "[445]\tvalid-auc:0.98942\n",
      "[450]\tvalid-auc:0.989429\n",
      "[455]\tvalid-auc:0.989426\n",
      "[460]\tvalid-auc:0.989431\n",
      "[465]\tvalid-auc:0.989422\n",
      "[470]\tvalid-auc:0.989433\n",
      "[475]\tvalid-auc:0.989444\n",
      "[480]\tvalid-auc:0.989446\n",
      "[485]\tvalid-auc:0.989461\n",
      "[490]\tvalid-auc:0.989468\n",
      "[495]\tvalid-auc:0.989478\n",
      "[500]\tvalid-auc:0.989481\n",
      "[505]\tvalid-auc:0.989493\n",
      "[510]\tvalid-auc:0.989498\n",
      "[515]\tvalid-auc:0.989502\n",
      "[520]\tvalid-auc:0.9895\n",
      "[525]\tvalid-auc:0.989499\n",
      "[530]\tvalid-auc:0.989497\n",
      "[535]\tvalid-auc:0.989516\n",
      "[540]\tvalid-auc:0.989548\n",
      "[545]\tvalid-auc:0.989555\n",
      "[550]\tvalid-auc:0.989588\n",
      "[555]\tvalid-auc:0.989609\n",
      "[560]\tvalid-auc:0.989608\n",
      "[565]\tvalid-auc:0.989625\n",
      "[570]\tvalid-auc:0.98963\n",
      "[575]\tvalid-auc:0.989631\n",
      "[580]\tvalid-auc:0.989632\n",
      "[585]\tvalid-auc:0.989643\n",
      "[590]\tvalid-auc:0.989625\n",
      "[595]\tvalid-auc:0.989627\n",
      "[600]\tvalid-auc:0.989635\n",
      "[605]\tvalid-auc:0.989645\n",
      "[610]\tvalid-auc:0.98965\n",
      "[615]\tvalid-auc:0.989645\n",
      "[620]\tvalid-auc:0.989657\n",
      "[625]\tvalid-auc:0.989664\n",
      "[630]\tvalid-auc:0.989681\n",
      "[635]\tvalid-auc:0.989697\n",
      "[640]\tvalid-auc:0.989709\n",
      "[645]\tvalid-auc:0.989711\n",
      "[650]\tvalid-auc:0.989708\n",
      "[655]\tvalid-auc:0.989709\n",
      "[660]\tvalid-auc:0.989705\n",
      "[665]\tvalid-auc:0.989717\n",
      "[670]\tvalid-auc:0.989729\n",
      "[675]\tvalid-auc:0.989721\n",
      "[680]\tvalid-auc:0.989723\n",
      "[685]\tvalid-auc:0.989718\n",
      "[690]\tvalid-auc:0.989726\n",
      "[695]\tvalid-auc:0.989744\n",
      "[700]\tvalid-auc:0.989762\n",
      "[705]\tvalid-auc:0.989773\n",
      "[710]\tvalid-auc:0.989779\n",
      "[715]\tvalid-auc:0.989777\n",
      "[720]\tvalid-auc:0.989779\n",
      "[725]\tvalid-auc:0.989772\n",
      "[730]\tvalid-auc:0.989769\n",
      "[735]\tvalid-auc:0.989772\n",
      "[740]\tvalid-auc:0.98977\n",
      "[745]\tvalid-auc:0.989783\n",
      "[750]\tvalid-auc:0.989786\n",
      "[755]\tvalid-auc:0.989789\n",
      "[760]\tvalid-auc:0.989789\n",
      "[765]\tvalid-auc:0.98978\n",
      "[770]\tvalid-auc:0.989783\n",
      "[775]\tvalid-auc:0.989793\n",
      "[780]\tvalid-auc:0.989796\n",
      "[785]\tvalid-auc:0.989799\n",
      "[790]\tvalid-auc:0.989803\n",
      "[795]\tvalid-auc:0.989797\n",
      "[800]\tvalid-auc:0.989801\n",
      "[805]\tvalid-auc:0.989801\n",
      "[810]\tvalid-auc:0.9898\n",
      "[815]\tvalid-auc:0.989799\n",
      "[820]\tvalid-auc:0.989807\n",
      "[825]\tvalid-auc:0.98981\n",
      "[830]\tvalid-auc:0.989814\n",
      "[835]\tvalid-auc:0.989824\n",
      "[840]\tvalid-auc:0.989825\n",
      "[845]\tvalid-auc:0.98983\n",
      "[850]\tvalid-auc:0.989825\n",
      "[855]\tvalid-auc:0.989811\n",
      "[860]\tvalid-auc:0.989811\n",
      "[865]\tvalid-auc:0.989811\n",
      "[870]\tvalid-auc:0.989815\n",
      "[875]\tvalid-auc:0.989841\n",
      "[880]\tvalid-auc:0.989833\n",
      "[885]\tvalid-auc:0.989835\n",
      "[890]\tvalid-auc:0.989839\n",
      "[895]\tvalid-auc:0.989843\n",
      "[900]\tvalid-auc:0.989845\n",
      "[905]\tvalid-auc:0.989846\n",
      "[910]\tvalid-auc:0.989854\n",
      "[915]\tvalid-auc:0.989857\n",
      "[920]\tvalid-auc:0.98985\n",
      "[925]\tvalid-auc:0.989852\n",
      "[930]\tvalid-auc:0.989868\n",
      "[935]\tvalid-auc:0.989872\n",
      "[940]\tvalid-auc:0.98987\n",
      "[945]\tvalid-auc:0.989869\n",
      "[950]\tvalid-auc:0.989866\n",
      "[955]\tvalid-auc:0.989884\n",
      "[960]\tvalid-auc:0.989888\n",
      "[965]\tvalid-auc:0.989891\n",
      "[970]\tvalid-auc:0.989889\n",
      "[975]\tvalid-auc:0.989882\n",
      "[980]\tvalid-auc:0.98989\n",
      "[985]\tvalid-auc:0.989899\n",
      "[990]\tvalid-auc:0.989901\n",
      "[995]\tvalid-auc:0.989902\n",
      "[1000]\tvalid-auc:0.989906\n",
      "[1005]\tvalid-auc:0.989912\n",
      "[1010]\tvalid-auc:0.989915\n",
      "[1015]\tvalid-auc:0.989908\n",
      "[1020]\tvalid-auc:0.989904\n",
      "[1025]\tvalid-auc:0.989915\n",
      "[1030]\tvalid-auc:0.989912\n",
      "[1035]\tvalid-auc:0.989919\n",
      "[1040]\tvalid-auc:0.989926\n",
      "[1045]\tvalid-auc:0.989923\n",
      "[1050]\tvalid-auc:0.989919\n",
      "[1055]\tvalid-auc:0.989921\n",
      "[1060]\tvalid-auc:0.989922\n",
      "[1065]\tvalid-auc:0.989928\n",
      "[1070]\tvalid-auc:0.989911\n",
      "[1075]\tvalid-auc:0.989913\n",
      "[1080]\tvalid-auc:0.98991\n",
      "[1085]\tvalid-auc:0.989906\n",
      "[1090]\tvalid-auc:0.989909\n",
      "[1095]\tvalid-auc:0.989909\n",
      "[1100]\tvalid-auc:0.989924\n",
      "[1105]\tvalid-auc:0.989921\n",
      "[1110]\tvalid-auc:0.989921\n",
      "[1115]\tvalid-auc:0.989915\n",
      "Stopping. Best iteration:\n",
      "[1065]\tvalid-auc:0.989928\n",
      "\n"
     ]
    }
   ],
   "source": [
    "xgb_model = xgb.train(xgb_params, \n",
    "                      dtrain, \n",
    "                      num_boost_round=2000, \n",
    "                      evals=watchlist, \n",
    "                      maximize=True, \n",
    "                      early_stopping_rounds = 50, \n",
    "                      verbose_eval=5)"
   ]
  },
  {
   "cell_type": "code",
   "execution_count": 13,
   "metadata": {},
   "outputs": [
    {
     "data": {
      "text/plain": [
       "<matplotlib.axes._subplots.AxesSubplot at 0x7f9e54f38e48>"
      ]
     },
     "execution_count": 13,
     "metadata": {},
     "output_type": "execute_result"
    },
    {
     "data": {
      "image/png": "[encoded data removed]",
      "text/plain": [
       "<matplotlib.figure.Figure at 0x7f9e6ffd6320>"
      ]
     },
     "metadata": {},
     "output_type": "display_data"
    }
   ],
   "source": [
    "xgb.plot_importance(xgb_model)"
   ]
  },
  {
   "cell_type": "code",
   "execution_count": 14,
   "metadata": {},
   "outputs": [
    {
     "data": {
      "text/plain": [
       "0.989928"
      ]
     },
     "execution_count": 14,
     "metadata": {},
     "output_type": "execute_result"
    }
   ],
   "source": [
    "xgb_model.best_score "
   ]
  },
  {
   "cell_type": "markdown",
   "metadata": {},
   "source": [
    "# XGB Prediction"
   ]
  },
  {
   "cell_type": "code",
   "execution_count": 15,
   "metadata": {},
   "outputs": [
    {
     "name": "stdout",
     "output_type": "stream",
     "text": [
      "model saved as xgb-model-2018-05-04-15-18-29\n"
     ]
    }
   ],
   "source": [
    "model_name = 'xgb-model-%s' % strftime(\"%Y-%m-%d-%H-%M-%S\", gmtime())\n",
    "xgb_model.save_model(model_name)\n",
    "print('model saved as %s' % model_name)"
   ]
  },
  {
   "cell_type": "code",
   "execution_count": 16,
   "metadata": {
    "collapsed": true
   },
   "outputs": [],
   "source": [
    "dtest = xgb.DMatrix(test_features)"
   ]
  },
  {
   "cell_type": "code",
   "execution_count": 17,
   "metadata": {},
   "outputs": [
    {
     "name": "stdout",
     "output_type": "stream",
     "text": [
      "Predicting...\n"
     ]
    }
   ],
   "source": [
    "print('Predicting...')\n",
    "test_df['is_attributed'] = xgb_model.predict(dtest, ntree_limit=xgb_model.best_ntree_limit)"
   ]
  },
  {
   "cell_type": "code",
   "execution_count": 18,
   "metadata": {
    "scrolled": true
   },
   "outputs": [
    {
     "name": "stdout",
     "output_type": "stream",
     "text": [
      "loading test\n"
     ]
    }
   ],
   "source": [
    "print('loading test')\n",
    "test = pd.read_csv('data/test.csv', dtype=dtype, usecols=test_cols, parse_dates=['click_time'])"
   ]
  },
  {
   "cell_type": "code",
   "execution_count": 19,
   "metadata": {},
   "outputs": [
    {
     "name": "stdout",
     "output_type": "stream",
     "text": [
      "merging test_supplement to test\n",
      "Writing the submission data into a csv file...\n",
      "All done...\n"
     ]
    }
   ],
   "source": [
    "print('merging test_supplement to test')\n",
    "join_cols = ['ip', 'app', 'device', 'os', 'channel', 'click_time']\n",
    "all_cols = join_cols + ['is_attributed']\n",
    "\n",
    "test = test.merge(test_df[all_cols], how='left', on=join_cols)\n",
    "test = test.drop_duplicates(subset=['click_id'])\n",
    "\n",
    "print(\"Writing the submission data into a csv file...\")\n",
    "test[['click_id', 'is_attributed']].to_csv('submit_xgb_1065.gz', index=False, float_format='%.9f', compression='gzip')\n",
    "print(\"All done...\")"
   ]
  },
  {
   "cell_type": "code",
   "execution_count": null,
   "metadata": {
    "collapsed": true
   },
   "outputs": [],
   "source": []
  }
 ],
 "metadata": {
  "kernelspec": {
   "display_name": "Python 3",
   "language": "python",
   "name": "python3"
  },
  "language_info": {
   "codemirror_mode": {
    "name": "ipython",
    "version": 3
   },
   "file_extension": ".py",
   "mimetype": "text/x-python",
   "name": "python",
   "nbconvert_exporter": "python",
   "pygments_lexer": "ipython3",
   "version": "3.6.3"
  }
 },
 "nbformat": 4,
 "nbformat_minor": 2
}
