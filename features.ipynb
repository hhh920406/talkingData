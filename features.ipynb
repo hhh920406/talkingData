{
 "cells": [
  {
   "cell_type": "code",
   "execution_count": null,
   "metadata": {
    "collapsed": true
   },
   "outputs": [],
   "source": [
    "import itertools\n",
    "import numpy as np\n",
    "import pandas as pd\n",
    "import gc"
   ]
  },
  {
   "cell_type": "code",
   "execution_count": null,
   "metadata": {
    "collapsed": true
   },
   "outputs": [],
   "source": [
    "def count_agg(df, group_cols):\n",
    "    col_name = \"_\".join(group_cols)+'_count'\n",
    "    count = df.groupby(group_cols).size().reset_index(name=col_name)\n",
    "    df = df.merge(count, on=group_cols, how='left')\n",
    "    del count\n",
    "    gc.collect()\n",
    "    return df\n",
    "\n",
    "def count_cum(df, group_cols):\n",
    "    col_name = \"_\".join(group_cols)+'_countAccum'\n",
    "    df[col_name] = df.groupby(group_cols).cumcount()\n",
    "    gc.collect()\n",
    "    return df\n",
    "\n",
    "def count_uniq(df, group_cols, uniq_col):\n",
    "    col_name = \"_\".join(group_cols)+'_uniq_'+uniq_col+'_countUniq'\n",
    "    tmp = df.groupby(group_cols)[uniq_col].nunique().reset_index(name=col_name)\n",
    "    df = df.merge(tmp, on=group_cols, how='left')\n",
    "    del tmp\n",
    "    gc.collect()\n",
    "    return df\n",
    "\n",
    "def next_click(df, group_cols):\n",
    "    df[\"_\".join(group_cols)+'_nextClick'] = (df.groupby(group_cols).click_time.shift(-1) - df.click_time).astype(np.float32)\n",
    "    gc.collect()\n",
    "    return df"
   ]
  },
  {
   "cell_type": "code",
   "execution_count": null,
   "metadata": {
    "collapsed": true
   },
   "outputs": [],
   "source": [
    "def generate_features(df):\n",
    "    print('generating time features...')\n",
    "    df['day'] = df['click_time'].dt.day.astype('uint8')\n",
    "    df['hour'] = df['click_time'].dt.hour.astype('uint8')\n",
    "    df['in_test_hh'] = (3\n",
    "                        - 2 * df['hour'].isin([4, 5, 9, 10, 13, 14]) # most frequent\n",
    "                        - 1 * df['hour'].isin([6, 11, 15])).astype('uint8') # least frequent\n",
    "    print('done')\n",
    "    gc.collect()\n",
    "    \n",
    "    count_combinations = [\n",
    "        ['ip'],\n",
    "        ['os', 'device'],\n",
    "        ['os', 'app', 'channel'],\n",
    "        ['ip', 'device'],\n",
    "        ['app', 'channel'],\n",
    "        ['ip', 'day', 'in_test_hh'],\n",
    "        ['ip', 'day', 'hour'],\n",
    "        ['ip', 'os', 'day', 'hour'],\n",
    "        ['ip', 'app', 'day', 'hour'],\n",
    "        ['ip', 'device', 'day', 'hour'],\n",
    "        ['ip', 'app', 'os'],\n",
    "        ['day', 'hour', 'app']\n",
    "    ]\n",
    "    \n",
    "    nextClick_combinations = [\n",
    "        ['ip', 'app', 'device', 'os']\n",
    "    ]\n",
    "\n",
    "    # count features\n",
    "    for i, cols in enumerate(count_combinations):\n",
    "        print(i, cols)\n",
    "        df = count_agg(df, cols)\n",
    "\n",
    "    # next click features\n",
    "    df['click_time'] = (df['click_time'].astype(np.int64) // 10 ** 9).astype(np.int32)\n",
    "    for i, cols in enumerate(nextClick_combinations):\n",
    "        print(i, cols)\n",
    "        df = next_click(df, cols)\n",
    "\n",
    "    df.drop(['ip', 'day', 'click_time', 'in_test_hh'], axis=1, inplace=True)\n",
    "    gc.collect()\n",
    "    print(df.info())"
   ]
  },
  {
   "cell_type": "code",
   "execution_count": null,
   "metadata": {},
   "outputs": [],
   "source": [
    "# load data\n",
    "dtype = {\n",
    "    'ip' :'uint32',\n",
    "    'app' :'uint16',\n",
    "    'device': 'uint16',\n",
    "    'os' :'uint16',\n",
    "    'channel': 'uint16',\n",
    "    'is_attributed': 'uint8',\n",
    "    'click_id': 'uint32',\n",
    "}\n",
    "\n",
    "# train: (184903890, 7)\n",
    "# test: (18790469, 7)\n",
    "train_cols = ['ip', 'app', 'device', 'os', 'channel', 'click_time', 'is_attributed']\n",
    "train_df = pd.read_csv('data/train.csv', skiprows=range(1, 84903891), nrows=100000000,\n",
    "                       dtype=dtype, usecols=train_cols, parse_dates=['click_time'])\n",
    "\n",
    "test_cols = ['ip', 'app', 'device', 'os', 'channel', 'click_time', 'click_id']\n",
    "test_df = pd.read_csv('data/test.csv', dtype=dtype, usecols=test_cols, parse_dates=['click_time'])"
   ]
  },
  {
   "cell_type": "code",
   "execution_count": null,
   "metadata": {
    "collapsed": true
   },
   "outputs": [],
   "source": [
    "# combine train and test data\n",
    "common_cols = ['ip', 'app', 'device', 'os', 'channel', 'click_time']\n",
    "all_df = pd.concat([train_df[common_cols], test_df[common_cols]])"
   ]
  },
  {
   "cell_type": "code",
   "execution_count": null,
   "metadata": {
    "scrolled": true
   },
   "outputs": [],
   "source": [
    "# generate data\n",
    "all_df = generate_features(all_df)"
   ]
  },
  {
   "cell_type": "code",
   "execution_count": null,
   "metadata": {
    "collapsed": true
   },
   "outputs": [],
   "source": [
    "# cache redundant cols\n",
    "submit = pd.DataFrame()\n",
    "submit['click_id'] = test_df['click_id']\n",
    "y = train_df.is_attributed.values"
   ]
  },
  {
   "cell_type": "code",
   "execution_count": null,
   "metadata": {
    "collapsed": true
   },
   "outputs": [],
   "source": [
    "# generate features\n",
    "train_df = train_df.iloc[:train_df.shape[0]]\n",
    "test_df = train_df.iloc[train_df.shape[0]:]\n",
    "gc.collect()"
   ]
  },
  {
   "cell_type": "code",
   "execution_count": null,
   "metadata": {
    "collapsed": true
   },
   "outputs": [],
   "source": [
    "import os\n",
    "import time\n",
    "from time import gmtime, strftime\n",
    "\n",
    "from sklearn.model_selection import train_test_split\n",
    "import lightgbm as lgb"
   ]
  },
  {
   "cell_type": "code",
   "execution_count": null,
   "metadata": {
    "collapsed": true
   },
   "outputs": [],
   "source": [
    "metrics = 'auc'\n",
    "lgb_params = {\n",
    "    'boosting_type': 'gbdt',\n",
    "    'objective': 'binary',\n",
    "    'metric': metrics,\n",
    "    'learning_rate': 0.1,\n",
    "    'num_leaves': 7,\n",
    "    'max_depth': 4,\n",
    "    'min_child_samples': 100,\n",
    "    'max_bin': 100,\n",
    "    'subsample': 0.7,\n",
    "    'subsample_freq': 1,\n",
    "    'colsample_bytree': 0.7,\n",
    "    'min_child_weight': 0,\n",
    "    'min_split_gain': 0,\n",
    "    'nthread': 4,\n",
    "    'verbose': 1,\n",
    "    'scale_pos_weight': 99.7\n",
    "    # 'scale_pos_weight': 400\n",
    "}\n",
    "\n",
    "target = 'is_attributed'\n",
    "features = [col for col in train_df.columns if x not in ['is_attributed']]\n",
    "category = ['app', 'device', 'os', 'channel', 'hour']"
   ]
  },
  {
   "cell_type": "code",
   "execution_count": null,
   "metadata": {
    "collapsed": true
   },
   "outputs": [],
   "source": [
    "train_df, val_df = train_test_split(train_df, train_size=.95, shuffle=False)\n",
    "y_train, y_val = train_test_split(y, train_size=.95, shuffle=False)\n",
    "print('Train size:', len(train_df))\n",
    "print('Valid size:', len(val_df))\n",
    "gc.collect()"
   ]
  },
  {
   "cell_type": "code",
   "execution_count": null,
   "metadata": {
    "collapsed": true
   },
   "outputs": [],
   "source": [
    "# convert data into dataset\n",
    "xgtrain = lgb.Dataset(train_df[inputs].values, label=y_train,\n",
    "                      feature_name=inputs,\n",
    "                      categorical_feature=cat_vars)\n",
    "del train_df\n",
    "gc.collect()\n",
    "\n",
    "xgvalid = lgb.Dataset(val_df[inputs].values, label=y_val,\n",
    "                      feature_name=inputs,\n",
    "                      categorical_feature=cat_vars)\n",
    "del val_df\n",
    "gc.collect()"
   ]
  },
  {
   "cell_type": "code",
   "execution_count": null,
   "metadata": {
    "collapsed": true
   },
   "outputs": [],
   "source": [
    "print('Training...')\n",
    "evals_results = {}\n",
    "model = lgb.train(lgb_params,\n",
    "                  xgtrain,\n",
    "                  valid_sets=[xgvalid],\n",
    "                  valid_names=['valid'],\n",
    "                  evals_result=evals_results,\n",
    "                  num_boost_round=1000,\n",
    "                  early_stopping_rounds=20,\n",
    "                  verbose_eval=1,\n",
    "                  feval=None)\n",
    "n_estimators = model.best_iteration\n",
    "\n",
    "print('\\nModel Info:')\n",
    "print('n_estimators:', n_estimators)\n",
    "print(metrics + ':', evals_results['valid'][metrics][n_estimators - 1])\n",
    "\n",
    "del xgvalid\n",
    "del xgtrain\n",
    "gc.collect()\n",
    "\n",
    "gain = model.feature_importance('gain')\n",
    "ft = pd.DataFrame({'feature': model.feature_name(), 'split': model.feature_importance('split'),\n",
    "                   'gain': 100 * gain / gain.sum()}).sort_values('gain', ascending=False)\n",
    "ft.to_csv('feature_importance_ref.csv', index=False)\n",
    "print(ft)\n",
    "\n",
    "model_name = 'model-%s' % strftime(\"%Y-%m-%d-%H-%M-%S\", gmtime())\n",
    "model.save_model(model_name)\n",
    "print('model saved as %s' % model_name)\n",
    "\n",
    "print('Predicting...')\n",
    "submit['is_attributed'] = model.predict(test_df[inputs])\n",
    "\n",
    "print('dump submission')\n",
    "submit.to_csv('submit.csv', index=False, float_format='%.9f')\n",
    "print('Done!')"
   ]
  }
 ],
 "metadata": {
  "kernelspec": {
   "display_name": "Python 3",
   "language": "python",
   "name": "python3"
  },
  "language_info": {
   "codemirror_mode": {
    "name": "ipython",
    "version": 3
   },
   "file_extension": ".py",
   "mimetype": "text/x-python",
   "name": "python",
   "nbconvert_exporter": "python",
   "pygments_lexer": "ipython3",
   "version": "3.6.3"
  }
 },
 "nbformat": 4,
 "nbformat_minor": 2
}
