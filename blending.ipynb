{
 "cells": [
  {
   "cell_type": "code",
   "execution_count": 1,
   "metadata": {
    "collapsed": true
   },
   "outputs": [],
   "source": [
    "import pandas as pd\n",
    "import numpy as np"
   ]
  },
  {
   "cell_type": "code",
   "execution_count": 2,
   "metadata": {
    "collapsed": true
   },
   "outputs": [],
   "source": [
    "xgb = pd.read_csv('submit_xgb_1161')"
   ]
  },
  {
   "cell_type": "code",
   "execution_count": 3,
   "metadata": {
    "collapsed": true
   },
   "outputs": [],
   "source": [
    "lgb = pd.read_csv('submit_lgb_875')"
   ]
  },
  {
   "cell_type": "code",
   "execution_count": 4,
   "metadata": {
    "collapsed": true
   },
   "outputs": [],
   "source": [
    "models = { \n",
    "           'xgb' : {\n",
    "                    'name':'xgboost06',\n",
    "                    'score':98.06,\n",
    "                    'df':xgb },\n",
    "           'lgb' : {\n",
    "                    'name':'lightgbm11',\n",
    "                    'score':98.11,\n",
    "                    'df':lgb },       \n",
    "         }"
   ]
  },
  {
   "cell_type": "code",
   "execution_count": 5,
   "metadata": {},
   "outputs": [
    {
     "name": "stdout",
     "output_type": "stream",
     "text": [
      "Blending...\n",
      "\n"
     ]
    }
   ],
   "source": [
    "isa_lg = 0\n",
    "isa_hm = 0\n",
    "\n",
    "print(\"Blending...\\n\")\n",
    "for df in models.keys() : \n",
    "    isa_lg += np.log(models[df]['df'].is_attributed)\n",
    "    isa_hm += 1/(models[df]['df'].is_attributed)\n",
    "isa_lg = np.exp(isa_lg/len(models.keys()))\n",
    "isa_hm = len(models.keys())/isa_hm"
   ]
  },
  {
   "cell_type": "code",
   "execution_count": 6,
   "metadata": {},
   "outputs": [
    {
     "name": "stdout",
     "output_type": "stream",
     "text": [
      "xgb\n",
      "\n",
      "   click_id  is_attributed\n",
      "0         0       0.139849\n",
      "1         1       0.010011\n",
      "2         2       0.001622\n",
      "3         3       0.020445\n",
      "4         4       0.012320\n",
      "5         5       0.003596\n",
      "6         6       0.021500\n",
      "7         7       0.119462\n",
      "8         9       0.160837\n",
      "9         8       0.002143\n",
      "lgb\n",
      "\n",
      "   click_id  is_attributed\n",
      "0         0       0.115162\n",
      "1         1       0.012690\n",
      "2         2       0.001412\n",
      "3         3       0.033062\n",
      "4         4       0.012521\n",
      "5         5       0.003612\n",
      "6         6       0.031346\n",
      "7         7       0.172713\n",
      "8         9       0.137332\n",
      "9         8       0.003644\n",
      "Isa log\n",
      "\n",
      "0    0.126907\n",
      "1    0.011272\n",
      "2    0.001513\n",
      "3    0.025999\n",
      "4    0.012420\n",
      "5    0.003604\n",
      "6    0.025960\n",
      "7    0.143641\n",
      "8    0.148620\n",
      "9    0.002795\n",
      "Name: is_attributed, dtype: float64\n",
      "\n",
      "Isa harmo\n",
      "\n",
      "0    0.126311\n",
      "1    0.011193\n",
      "2    0.001509\n",
      "3    0.025266\n",
      "4    0.012420\n",
      "5    0.003604\n",
      "6    0.025506\n",
      "7    0.141235\n",
      "8    0.148158\n",
      "9    0.002699\n",
      "Name: is_attributed, dtype: float64\n"
     ]
    }
   ],
   "source": [
    "print(\"xgb\\n\")\n",
    "print(xgb[:10])\n",
    "print(\"lgb\\n\")\n",
    "print(lgb[:10])\n",
    "\n",
    "print(\"Isa log\\n\")\n",
    "print(isa_lg[:10])\n",
    "print()\n",
    "print(\"Isa harmo\\n\")\n",
    "print(isa_hm[:10])"
   ]
  },
  {
   "cell_type": "code",
   "execution_count": 7,
   "metadata": {},
   "outputs": [
    {
     "data": {
      "text/html": [
       "<div>\n",
       "<style>\n",
       "    .dataframe thead tr:only-child th {\n",
       "        text-align: right;\n",
       "    }\n",
       "\n",
       "    .dataframe thead th {\n",
       "        text-align: left;\n",
       "    }\n",
       "\n",
       "    .dataframe tbody tr th {\n",
       "        vertical-align: top;\n",
       "    }\n",
       "</style>\n",
       "<table border=\"1\" class=\"dataframe\">\n",
       "  <thead>\n",
       "    <tr style=\"text-align: right;\">\n",
       "      <th></th>\n",
       "      <th>click_id</th>\n",
       "      <th>is_attributed</th>\n",
       "    </tr>\n",
       "  </thead>\n",
       "  <tbody>\n",
       "    <tr>\n",
       "      <th>0</th>\n",
       "      <td>0</td>\n",
       "      <td>0.126907</td>\n",
       "    </tr>\n",
       "    <tr>\n",
       "      <th>1</th>\n",
       "      <td>1</td>\n",
       "      <td>0.011272</td>\n",
       "    </tr>\n",
       "    <tr>\n",
       "      <th>2</th>\n",
       "      <td>2</td>\n",
       "      <td>0.001513</td>\n",
       "    </tr>\n",
       "    <tr>\n",
       "      <th>3</th>\n",
       "      <td>3</td>\n",
       "      <td>0.025999</td>\n",
       "    </tr>\n",
       "    <tr>\n",
       "      <th>4</th>\n",
       "      <td>4</td>\n",
       "      <td>0.012420</td>\n",
       "    </tr>\n",
       "  </tbody>\n",
       "</table>\n",
       "</div>"
      ],
      "text/plain": [
       "   click_id  is_attributed\n",
       "0         0       0.126907\n",
       "1         1       0.011272\n",
       "2         2       0.001513\n",
       "3         3       0.025999\n",
       "4         4       0.012420"
      ]
     },
     "execution_count": 7,
     "metadata": {},
     "output_type": "execute_result"
    }
   ],
   "source": [
    "sub_log = pd.DataFrame()\n",
    "sub_log['click_id'] = xgb['click_id']\n",
    "sub_log['is_attributed'] = isa_lg\n",
    "sub_log.head()"
   ]
  },
  {
   "cell_type": "code",
   "execution_count": 8,
   "metadata": {},
   "outputs": [
    {
     "data": {
      "text/html": [
       "<div>\n",
       "<style>\n",
       "    .dataframe thead tr:only-child th {\n",
       "        text-align: right;\n",
       "    }\n",
       "\n",
       "    .dataframe thead th {\n",
       "        text-align: left;\n",
       "    }\n",
       "\n",
       "    .dataframe tbody tr th {\n",
       "        vertical-align: top;\n",
       "    }\n",
       "</style>\n",
       "<table border=\"1\" class=\"dataframe\">\n",
       "  <thead>\n",
       "    <tr style=\"text-align: right;\">\n",
       "      <th></th>\n",
       "      <th>click_id</th>\n",
       "      <th>is_attributed</th>\n",
       "    </tr>\n",
       "  </thead>\n",
       "  <tbody>\n",
       "    <tr>\n",
       "      <th>0</th>\n",
       "      <td>0</td>\n",
       "      <td>0.126311</td>\n",
       "    </tr>\n",
       "    <tr>\n",
       "      <th>1</th>\n",
       "      <td>1</td>\n",
       "      <td>0.011193</td>\n",
       "    </tr>\n",
       "    <tr>\n",
       "      <th>2</th>\n",
       "      <td>2</td>\n",
       "      <td>0.001509</td>\n",
       "    </tr>\n",
       "    <tr>\n",
       "      <th>3</th>\n",
       "      <td>3</td>\n",
       "      <td>0.025266</td>\n",
       "    </tr>\n",
       "    <tr>\n",
       "      <th>4</th>\n",
       "      <td>4</td>\n",
       "      <td>0.012420</td>\n",
       "    </tr>\n",
       "  </tbody>\n",
       "</table>\n",
       "</div>"
      ],
      "text/plain": [
       "   click_id  is_attributed\n",
       "0         0       0.126311\n",
       "1         1       0.011193\n",
       "2         2       0.001509\n",
       "3         3       0.025266\n",
       "4         4       0.012420"
      ]
     },
     "execution_count": 8,
     "metadata": {},
     "output_type": "execute_result"
    }
   ],
   "source": [
    "sub_hm = pd.DataFrame()\n",
    "sub_hm['click_id'] = xgb['click_id']\n",
    "sub_hm['is_attributed'] = isa_hm\n",
    "sub_hm.head()"
   ]
  },
  {
   "cell_type": "code",
   "execution_count": 9,
   "metadata": {},
   "outputs": [
    {
     "name": "stdout",
     "output_type": "stream",
     "text": [
      "Writing...\n",
      "Done!\n"
     ]
    }
   ],
   "source": [
    "print(\"Writing...\")\n",
    "sub_log.to_csv('submission_xgb06_lgb11_log.gz', index=False, float_format='%.9f',  compression='gzip')\n",
    "sub_hm.to_csv('submission_xgb06_lgb11_hm.gz', index=False, float_format='%.9f',  compression='gzip')\n",
    "print('Done!')"
   ]
  },
  {
   "cell_type": "code",
   "execution_count": null,
   "metadata": {
    "collapsed": true
   },
   "outputs": [],
   "source": []
  }
 ],
 "metadata": {
  "kernelspec": {
   "display_name": "Python 3",
   "language": "python",
   "name": "python3"
  },
  "language_info": {
   "codemirror_mode": {
    "name": "ipython",
    "version": 3
   },
   "file_extension": ".py",
   "mimetype": "text/x-python",
   "name": "python",
   "nbconvert_exporter": "python",
   "pygments_lexer": "ipython3",
   "version": "3.6.3"
  }
 },
 "nbformat": 4,
 "nbformat_minor": 2
}
