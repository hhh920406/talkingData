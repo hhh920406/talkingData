{
 "cells": [
  {
   "cell_type": "code",
   "execution_count": 17,
   "metadata": {
    "collapsed": true
   },
   "outputs": [],
   "source": [
    "import pandas as pd\n",
    "import numpy as np"
   ]
  },
  {
   "cell_type": "code",
   "execution_count": 18,
   "metadata": {
    "collapsed": true
   },
   "outputs": [],
   "source": [
    "xgb = pd.read_csv('submit_xgb_1065')"
   ]
  },
  {
   "cell_type": "code",
   "execution_count": 19,
   "metadata": {
    "collapsed": true
   },
   "outputs": [],
   "source": [
    "lgb = pd.read_csv('submit_lgb')"
   ]
  },
  {
   "cell_type": "code",
   "execution_count": 20,
   "metadata": {},
   "outputs": [],
   "source": [
    "models = { \n",
    "           'xgb' : {\n",
    "                    'name':'xgboost05',\n",
    "                    'score':98.05,\n",
    "                    'df':xgb },\n",
    "           'lgb' : {\n",
    "                    'name':'lightgbm09',\n",
    "                    'score':98.09,\n",
    "                    'df':lgb },       \n",
    "         }"
   ]
  },
  {
   "cell_type": "code",
   "execution_count": 21,
   "metadata": {},
   "outputs": [
    {
     "name": "stdout",
     "output_type": "stream",
     "text": [
      "Blending...\n",
      "\n"
     ]
    }
   ],
   "source": [
    "isa_lg = 0\n",
    "isa_hm = 0\n",
    "\n",
    "print(\"Blending...\\n\")\n",
    "for df in models.keys() : \n",
    "    isa_lg += np.log(models[df]['df'].is_attributed)\n",
    "    isa_hm += 1/(models[df]['df'].is_attributed)\n",
    "isa_lg = np.exp(isa_lg/len(models.keys()))\n",
    "isa_hm = len(models.keys())/isa_hm"
   ]
  },
  {
   "cell_type": "code",
   "execution_count": 22,
   "metadata": {},
   "outputs": [
    {
     "name": "stdout",
     "output_type": "stream",
     "text": [
      "xgb\n",
      "\n",
      "   click_id  is_attributed\n",
      "0         0       0.115865\n",
      "1         1       0.007285\n",
      "2         2       0.001926\n",
      "3         3       0.019659\n",
      "4         4       0.007958\n",
      "5         5       0.002714\n",
      "6         6       0.029391\n",
      "7         7       0.081951\n",
      "8         9       0.142800\n",
      "9         8       0.002371\n",
      "lgb\n",
      "\n",
      "   click_id  is_attributed\n",
      "0         0       0.111219\n",
      "1         1       0.019417\n",
      "2         2       0.001804\n",
      "3         3       0.036372\n",
      "4         4       0.013175\n",
      "5         5       0.003585\n",
      "6         6       0.040068\n",
      "7         7       0.160998\n",
      "8         9       0.104742\n",
      "9         8       0.003173\n",
      "Isa log\n",
      "\n",
      "0    0.113518\n",
      "1    0.011893\n",
      "2    0.001864\n",
      "3    0.026740\n",
      "4    0.010240\n",
      "5    0.003119\n",
      "6    0.034317\n",
      "7    0.114865\n",
      "8    0.122299\n",
      "9    0.002743\n",
      "Name: is_attributed, dtype: float64\n",
      "\n",
      "Isa harmo\n",
      "\n",
      "0    0.113495\n",
      "1    0.010595\n",
      "2    0.001863\n",
      "3    0.025523\n",
      "4    0.009923\n",
      "5    0.003089\n",
      "6    0.033909\n",
      "7    0.108615\n",
      "8    0.120845\n",
      "9    0.002714\n",
      "Name: is_attributed, dtype: float64\n"
     ]
    }
   ],
   "source": [
    "print(\"xgb\\n\")\n",
    "print(xgb[:10])\n",
    "print(\"lgb\\n\")\n",
    "print(lgb[:10])\n",
    "\n",
    "print(\"Isa log\\n\")\n",
    "print(isa_lg[:10])\n",
    "print()\n",
    "print(\"Isa harmo\\n\")\n",
    "print(isa_hm[:10])"
   ]
  },
  {
   "cell_type": "code",
   "execution_count": 23,
   "metadata": {},
   "outputs": [
    {
     "data": {
      "text/html": [
       "<div>\n",
       "<style>\n",
       "    .dataframe thead tr:only-child th {\n",
       "        text-align: right;\n",
       "    }\n",
       "\n",
       "    .dataframe thead th {\n",
       "        text-align: left;\n",
       "    }\n",
       "\n",
       "    .dataframe tbody tr th {\n",
       "        vertical-align: top;\n",
       "    }\n",
       "</style>\n",
       "<table border=\"1\" class=\"dataframe\">\n",
       "  <thead>\n",
       "    <tr style=\"text-align: right;\">\n",
       "      <th></th>\n",
       "      <th>click_id</th>\n",
       "      <th>is_attributed</th>\n",
       "    </tr>\n",
       "  </thead>\n",
       "  <tbody>\n",
       "    <tr>\n",
       "      <th>0</th>\n",
       "      <td>0</td>\n",
       "      <td>0.113518</td>\n",
       "    </tr>\n",
       "    <tr>\n",
       "      <th>1</th>\n",
       "      <td>1</td>\n",
       "      <td>0.011893</td>\n",
       "    </tr>\n",
       "    <tr>\n",
       "      <th>2</th>\n",
       "      <td>2</td>\n",
       "      <td>0.001864</td>\n",
       "    </tr>\n",
       "    <tr>\n",
       "      <th>3</th>\n",
       "      <td>3</td>\n",
       "      <td>0.026740</td>\n",
       "    </tr>\n",
       "    <tr>\n",
       "      <th>4</th>\n",
       "      <td>4</td>\n",
       "      <td>0.010240</td>\n",
       "    </tr>\n",
       "  </tbody>\n",
       "</table>\n",
       "</div>"
      ],
      "text/plain": [
       "   click_id  is_attributed\n",
       "0         0       0.113518\n",
       "1         1       0.011893\n",
       "2         2       0.001864\n",
       "3         3       0.026740\n",
       "4         4       0.010240"
      ]
     },
     "execution_count": 23,
     "metadata": {},
     "output_type": "execute_result"
    }
   ],
   "source": [
    "sub_log = pd.DataFrame()\n",
    "sub_log['click_id'] = xgb['click_id']\n",
    "sub_log['is_attributed'] = isa_lg\n",
    "sub_log.head()"
   ]
  },
  {
   "cell_type": "code",
   "execution_count": 24,
   "metadata": {},
   "outputs": [
    {
     "data": {
      "text/html": [
       "<div>\n",
       "<style>\n",
       "    .dataframe thead tr:only-child th {\n",
       "        text-align: right;\n",
       "    }\n",
       "\n",
       "    .dataframe thead th {\n",
       "        text-align: left;\n",
       "    }\n",
       "\n",
       "    .dataframe tbody tr th {\n",
       "        vertical-align: top;\n",
       "    }\n",
       "</style>\n",
       "<table border=\"1\" class=\"dataframe\">\n",
       "  <thead>\n",
       "    <tr style=\"text-align: right;\">\n",
       "      <th></th>\n",
       "      <th>click_id</th>\n",
       "      <th>is_attributed</th>\n",
       "    </tr>\n",
       "  </thead>\n",
       "  <tbody>\n",
       "    <tr>\n",
       "      <th>0</th>\n",
       "      <td>0</td>\n",
       "      <td>0.113495</td>\n",
       "    </tr>\n",
       "    <tr>\n",
       "      <th>1</th>\n",
       "      <td>1</td>\n",
       "      <td>0.010595</td>\n",
       "    </tr>\n",
       "    <tr>\n",
       "      <th>2</th>\n",
       "      <td>2</td>\n",
       "      <td>0.001863</td>\n",
       "    </tr>\n",
       "    <tr>\n",
       "      <th>3</th>\n",
       "      <td>3</td>\n",
       "      <td>0.025523</td>\n",
       "    </tr>\n",
       "    <tr>\n",
       "      <th>4</th>\n",
       "      <td>4</td>\n",
       "      <td>0.009923</td>\n",
       "    </tr>\n",
       "  </tbody>\n",
       "</table>\n",
       "</div>"
      ],
      "text/plain": [
       "   click_id  is_attributed\n",
       "0         0       0.113495\n",
       "1         1       0.010595\n",
       "2         2       0.001863\n",
       "3         3       0.025523\n",
       "4         4       0.009923"
      ]
     },
     "execution_count": 24,
     "metadata": {},
     "output_type": "execute_result"
    }
   ],
   "source": [
    "sub_hm = pd.DataFrame()\n",
    "sub_hm['click_id'] = xgb['click_id']\n",
    "sub_hm['is_attributed'] = isa_hm\n",
    "sub_hm.head()"
   ]
  },
  {
   "cell_type": "code",
   "execution_count": 25,
   "metadata": {},
   "outputs": [
    {
     "name": "stdout",
     "output_type": "stream",
     "text": [
      "Writing...\n",
      "Done!\n"
     ]
    }
   ],
   "source": [
    "print(\"Writing...\")\n",
    "sub_log.to_csv('submission_xgb05_lgb07_log.gz', index=False, float_format='%.9f',  compression='gzip')\n",
    "sub_hm.to_csv('submission_xgb05_lgb07_hm.gz', index=False, float_format='%.9f',  compression='gzip')\n",
    "print('Done!')"
   ]
  },
  {
   "cell_type": "code",
   "execution_count": null,
   "metadata": {
    "collapsed": true
   },
   "outputs": [],
   "source": []
  }
 ],
 "metadata": {
  "kernelspec": {
   "display_name": "Python 3",
   "language": "python",
   "name": "python3"
  },
  "language_info": {
   "codemirror_mode": {
    "name": "ipython",
    "version": 3
   },
   "file_extension": ".py",
   "mimetype": "text/x-python",
   "name": "python",
   "nbconvert_exporter": "python",
   "pygments_lexer": "ipython3",
   "version": "3.6.3"
  }
 },
 "nbformat": 4,
 "nbformat_minor": 2
}
