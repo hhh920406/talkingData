{
 "cells": [
  {
   "cell_type": "code",
   "execution_count": 1,
   "metadata": {},
   "outputs": [
    {
     "data": {
      "text/plain": [
       "<dask.context.set_options at 0x7f4394619550>"
      ]
     },
     "execution_count": 1,
     "metadata": {},
     "output_type": "execute_result"
    }
   ],
   "source": [
    "import pandas as pd\n",
    "import dask\n",
    "import dask.dataframe as dd\n",
    "from dask.diagnostics.progress import ProgressBar\n",
    "from functools import reduce\n",
    "import gc\n",
    "dask.set_options(temporary_directory='/root/mount/tmp')"
   ]
  },
  {
   "cell_type": "code",
   "execution_count": null,
   "metadata": {},
   "outputs": [],
   "source": [
    "train_count_accum = pd.read_feather('train_count_accum.ftr')\n",
    "train_origin_uniq_nextClick = pd.read_feather('train_origin_uniq_nextClick.ftr')"
   ]
  },
  {
   "cell_type": "code",
   "execution_count": null,
   "metadata": {},
   "outputs": [],
   "source": [
    "sd1 = dd.from_pandas(train_count_accum, npartitions=3)\n",
    "sd2 = dd.from_pandas(train_origin_uniq_nextClick, npartitions=3)"
   ]
  },
  {
   "cell_type": "code",
   "execution_count": null,
   "metadata": {},
   "outputs": [],
   "source": [
    "sd1.to_hdf('train_count_accum.h5', 'train_count_accum')\n",
    "sd2.to_hdf('train_origin_uniq_nextClick.h5', 'train_origin_uniq_nextClick')"
   ]
  },
  {
   "cell_type": "code",
   "execution_count": null,
   "metadata": {},
   "outputs": [],
   "source": [
    "sd1 = dd.read_hdf('train_count_accum.h5', 'train_count_accum')\n",
    "sd2 = dd.read_hdf('train_origin_uniq_nextClick.h5', 'train_origin_uniq_nextClick')"
   ]
  },
  {
   "cell_type": "code",
   "execution_count": null,
   "metadata": {},
   "outputs": [],
   "source": [
    "sd3 = sd1.merge(sd2, on=['index'])"
   ]
  },
  {
   "cell_type": "code",
   "execution_count": null,
   "metadata": {},
   "outputs": [],
   "source": [
    "with ProgressBar():\n",
    "    sd3.to_hdf('train_features.h5', 'train_features')"
   ]
  },
  {
   "cell_type": "code",
   "execution_count": 2,
   "metadata": {},
   "outputs": [],
   "source": [
    "cols = [\n",
    "    'ip', 'app', 'device', 'os', 'channel', 'day', 'hour', 'is_attributed', \n",
    "    'app_count', 'ip_count', 'app_channel_count',\n",
    "    'ip_device_count', 'ip_day_count', 'app_channel_hour_count',\n",
    "    'app_channel_day_count', 'app_channel_day_hour_count', \n",
    "    'ip_countAccum', 'channel_countAccum', 'app_countAccum', \n",
    "    'device_countAccum', 'app_channel_countAccum', 'app_channel_day_countAccum',\n",
    "    'channel_day_hour_countAccum', 'device_channel_day_hour_countAccum',\n",
    "    'app_channel_day_hour_countAccum', 'app_device_channel_day_hour_countAccum', \n",
    "    'ip_day_countAccum', 'ip_device_countAccum', \n",
    "    'app_uniq_ip_countUniq', 'app_day_uniq_ip_countUniq', 'app_device_channel_uniq_ip_countUniq',\n",
    "    'app_hour_channel_uniq_ip_countUniq', 'ip_uniq_channel_countUniq',\n",
    "    'ip_uniq_app_countUniq', 'ip_uniq_hour_countUniq',\n",
    "    'ip_uniq_os_countUniq', 'app_channel_hour_uniq_os_countUniq',\n",
    "    'app_channel_day_hour_uniq_os_countUniq', 'ip_nextClick',\n",
    "    'channel_nextClick', 'ip_device_nextClick', 'channel_day_nextClick',\n",
    "    'app_channel_nextClick', 'ip_app_nextClick', 'ip_app_os_nextClick',\n",
    "    'ip_app_os_device_nextClick', 'ip_app_os_device_channel_nextClick'\n",
    "]"
   ]
  },
  {
   "cell_type": "code",
   "execution_count": null,
   "metadata": {},
   "outputs": [],
   "source": [
    "train = pd.read_hdf('train_features.h5', 'train_features', stop=100000000, columns=cols)"
   ]
  },
  {
   "cell_type": "code",
   "execution_count": null,
   "metadata": {},
   "outputs": [],
   "source": []
  }
 ],
 "metadata": {
  "kernelspec": {
   "display_name": "Python 3",
   "language": "python",
   "name": "python3"
  },
  "language_info": {
   "codemirror_mode": {
    "name": "ipython",
    "version": 3
   },
   "file_extension": ".py",
   "mimetype": "text/x-python",
   "name": "python",
   "nbconvert_exporter": "python",
   "pygments_lexer": "ipython3",
   "version": "3.6.4"
  }
 },
 "nbformat": 4,
 "nbformat_minor": 2
}
