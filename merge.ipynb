{
 "cells": [
  {
   "cell_type": "code",
   "execution_count": 5,
   "metadata": {},
   "outputs": [
    {
     "data": {
      "text/plain": [
       "<dask.context.set_options at 0x7fec1a144cf8>"
      ]
     },
     "execution_count": 5,
     "metadata": {},
     "output_type": "execute_result"
    }
   ],
   "source": [
    "import pandas as pd\n",
    "import dask\n",
    "import lightgbm as lgb\n",
    "import dask.dataframe as dd\n",
    "from dask.diagnostics.progress import ProgressBar\n",
    "from functools import reduce\n",
    "import gc\n",
    "dask.set_options(temporary_directory='/root/mount/tmp')"
   ]
  },
  {
   "cell_type": "code",
   "execution_count": null,
   "metadata": {
    "collapsed": true
   },
   "outputs": [],
   "source": [
    "train_count_accum = pd.read_feather('train_count_accum.ftr')\n",
    "train_origin_uniq_nextClick = pd.read_feather('train_origin_uniq_nextClick.ftr')"
   ]
  },
  {
   "cell_type": "code",
   "execution_count": null,
   "metadata": {
    "collapsed": true
   },
   "outputs": [],
   "source": [
    "sd1 = dd.from_pandas(train_count_accum, npartitions=3)\n",
    "sd2 = dd.from_pandas(train_origin_uniq_nextClick, npartitions=3)"
   ]
  },
  {
   "cell_type": "code",
   "execution_count": null,
   "metadata": {
    "collapsed": true
   },
   "outputs": [],
   "source": [
    "sd1.to_hdf('train_count_accum.h5', 'train_count_accum')\n",
    "sd2.to_hdf('train_origin_uniq_nextClick.h5', 'train_origin_uniq_nextClick')"
   ]
  },
  {
   "cell_type": "code",
   "execution_count": null,
   "metadata": {
    "collapsed": true
   },
   "outputs": [],
   "source": [
    "sd1 = dd.read_hdf('train_count_accum.h5', 'train_count_accum')\n",
    "sd2 = dd.read_hdf('train_origin_uniq_nextClick.h5', 'train_origin_uniq_nextClick')"
   ]
  },
  {
   "cell_type": "code",
   "execution_count": null,
   "metadata": {
    "collapsed": true
   },
   "outputs": [],
   "source": [
    "sd3 = sd1.merge(sd2, on=['index'])"
   ]
  },
  {
   "cell_type": "code",
   "execution_count": null,
   "metadata": {
    "collapsed": true
   },
   "outputs": [],
   "source": [
    "with ProgressBar():\n",
    "    sd3.to_hdf('train_features.h5', 'train_features')"
   ]
  },
  {
   "cell_type": "code",
   "execution_count": 2,
   "metadata": {
    "collapsed": true
   },
   "outputs": [],
   "source": [
    "cols = [\n",
    "    'ip', 'app', 'device', 'os', 'channel', 'day', 'hour', 'is_attributed', \n",
    "    'app_count', 'ip_count', 'app_channel_count',\n",
    "    'ip_device_count', 'ip_day_count', 'app_channel_hour_count',\n",
    "    'app_channel_day_count', 'app_channel_day_hour_count', \n",
    "    'ip_countAccum', 'channel_countAccum', 'app_countAccum', \n",
    "    'device_countAccum', 'app_channel_countAccum', 'app_channel_day_countAccum',\n",
    "    'channel_day_hour_countAccum', 'device_channel_day_hour_countAccum',\n",
    "    'app_channel_day_hour_countAccum', 'app_device_channel_day_hour_countAccum', \n",
    "    'ip_day_countAccum', 'ip_device_countAccum', \n",
    "    'app_uniq_ip_countUniq', 'app_day_uniq_ip_countUniq', 'app_device_channel_uniq_ip_countUniq',\n",
    "    'app_hour_channel_uniq_ip_countUniq', 'ip_uniq_channel_countUniq',\n",
    "    'ip_uniq_app_countUniq', 'ip_uniq_hour_countUniq',\n",
    "    'ip_uniq_os_countUniq', 'app_channel_hour_uniq_os_countUniq',\n",
    "    'app_channel_day_hour_uniq_os_countUniq', 'ip_nextClick',\n",
    "    'channel_nextClick', 'ip_device_nextClick', 'channel_day_nextClick',\n",
    "    'app_channel_nextClick', 'ip_app_nextClick', 'ip_app_os_nextClick',\n",
    "    'ip_app_os_device_nextClick', 'ip_app_os_device_channel_nextClick'\n",
    "]"
   ]
  },
  {
   "cell_type": "code",
   "execution_count": null,
   "metadata": {
    "collapsed": true
   },
   "outputs": [],
   "source": [
    "train = pd.read_hdf('train_features.h5', 'train_features', stop=100000000, columns=cols)"
   ]
  },
  {
   "cell_type": "code",
   "execution_count": 2,
   "metadata": {
    "collapsed": true
   },
   "outputs": [],
   "source": [
    "train = pd.read_feather('data/train_features.ftr')\n",
    "valid = pd.read_feather('data/valid_features.ftr')"
   ]
  },
  {
   "cell_type": "code",
   "execution_count": 3,
   "metadata": {
    "collapsed": true
   },
   "outputs": [],
   "source": [
    "all_features = pd.concat([train, valid], ignore_index=True)"
   ]
  },
  {
   "cell_type": "code",
   "execution_count": 7,
   "metadata": {},
   "outputs": [
    {
     "data": {
      "text/plain": [
       "(184903890, 30)"
      ]
     },
     "execution_count": 7,
     "metadata": {},
     "output_type": "execute_result"
    }
   ],
   "source": [
    "all_features.shape"
   ]
  },
  {
   "cell_type": "code",
   "execution_count": 6,
   "metadata": {},
   "outputs": [
    {
     "data": {
      "text/plain": [
       "2461"
      ]
     },
     "execution_count": 6,
     "metadata": {},
     "output_type": "execute_result"
    }
   ],
   "source": [
    "del train\n",
    "del valid\n",
    "gc.collect()"
   ]
  },
  {
   "cell_type": "code",
   "execution_count": 9,
   "metadata": {},
   "outputs": [
    {
     "name": "stdout",
     "output_type": "stream",
     "text": [
      "converting...\n",
      "save binary\n"
     ]
    }
   ],
   "source": [
    "features = [x for x in all_features.columns if x not in ['index', 'click_time', 'is_attributed']]\n",
    "categorical = ['ip', 'app', 'device', 'os', 'channel', 'hour']\n",
    "respond = 'is_attributed'\n",
    "\n",
    "print('converting...')\n",
    "xgtrain = lgb.Dataset(all_features[features].values, \n",
    "                      label=all_features[respond].values,\n",
    "                      feature_name=features,\n",
    "                      categorical_feature=categorical\n",
    "                     )\n",
    "\n",
    "print('save binary')\n",
    "xgtrain.save_binary('data/all_features.bin')"
   ]
  },
  {
   "cell_type": "code",
   "execution_count": 10,
   "metadata": {
    "collapsed": true
   },
   "outputs": [],
   "source": [
    "xgtrain.save_binary('data/all_features.bin')"
   ]
  },
  {
   "cell_type": "code",
   "execution_count": null,
   "metadata": {
    "collapsed": true
   },
   "outputs": [],
   "source": []
  }
 ],
 "metadata": {
  "kernelspec": {
   "display_name": "Python 3",
   "language": "python",
   "name": "python3"
  },
  "language_info": {
   "codemirror_mode": {
    "name": "ipython",
    "version": 3
   },
   "file_extension": ".py",
   "mimetype": "text/x-python",
   "name": "python",
   "nbconvert_exporter": "python",
   "pygments_lexer": "ipython3",
   "version": "3.6.3"
  }
 },
 "nbformat": 4,
 "nbformat_minor": 2
}
