{
 "cells": [
  {
   "cell_type": "code",
   "execution_count": 1,
   "metadata": {
    "collapsed": true
   },
   "outputs": [],
   "source": [
    "import pandas as pd\n",
    "import numpy as np\n",
    "import lightgbm as lgb"
   ]
  },
  {
   "cell_type": "code",
   "execution_count": 2,
   "metadata": {
    "collapsed": true
   },
   "outputs": [],
   "source": [
    "test = pd.read_feather('data/test_features.ftr')"
   ]
  },
  {
   "cell_type": "code",
   "execution_count": 4,
   "metadata": {},
   "outputs": [
    {
     "data": {
      "text/plain": [
       "(18790469, 30)"
      ]
     },
     "execution_count": 4,
     "metadata": {},
     "output_type": "execute_result"
    }
   ],
   "source": [
    "test.shape"
   ]
  },
  {
   "cell_type": "code",
   "execution_count": 3,
   "metadata": {},
   "outputs": [
    {
     "data": {
      "text/plain": [
       "Index(['click_id', 'ip', 'app', 'device', 'os', 'channel', 'day', 'hour',\n",
       "       'ip_day_hour_count', 'ip_app_count', 'app_count', 'ip_count',\n",
       "       'ip_device_count', 'app_channel_count', 'app_channel_day_hour_count',\n",
       "       'ip_device_os_countAccum', 'app_countAccum', 'ip_countAccum',\n",
       "       'app_day_uniq_ip_countUniq', 'app_channel_hour_uniq_os_countUniq',\n",
       "       'ip_uniq_channel_countUniq', 'ip_uniq_app_countUniq',\n",
       "       'app_channel_day_hour_uniq_os_countUniq', 'ip_uniq_os_countUniq',\n",
       "       'ip_app_device_os_channel_nextClick', 'ip_os_device_nextClick',\n",
       "       'ip_os_device_app_nextClick', 'app_channel_nextClick', 'ip_nextClick',\n",
       "       'ip_device_nextClick'],\n",
       "      dtype='object')"
      ]
     },
     "execution_count": 3,
     "metadata": {},
     "output_type": "execute_result"
    }
   ],
   "source": [
    "test.columns"
   ]
  },
  {
   "cell_type": "code",
   "execution_count": 5,
   "metadata": {
    "collapsed": true
   },
   "outputs": [],
   "source": [
    "features = ['ip', 'app', 'device', 'os', 'channel', 'day', 'hour',\n",
    "       'ip_day_hour_count', 'ip_app_count', 'app_count', 'ip_count',\n",
    "       'ip_device_count', 'app_channel_count', 'app_channel_day_hour_count',\n",
    "       'ip_device_os_countAccum', 'app_countAccum', 'ip_countAccum',\n",
    "       'app_day_uniq_ip_countUniq', 'app_channel_hour_uniq_os_countUniq',\n",
    "       'ip_uniq_channel_countUniq', 'ip_uniq_app_countUniq',\n",
    "       'app_channel_day_hour_uniq_os_countUniq', 'ip_uniq_os_countUniq',\n",
    "       'ip_app_device_os_channel_nextClick', 'ip_os_device_nextClick',\n",
    "       'ip_os_device_app_nextClick', 'app_channel_nextClick', 'ip_nextClick',\n",
    "       'ip_device_nextClick']"
   ]
  },
  {
   "cell_type": "code",
   "execution_count": 6,
   "metadata": {
    "collapsed": true
   },
   "outputs": [],
   "source": [
    "model = lgb.Booster(model_file='data/model-2018-05-02-08-36-45')"
   ]
  },
  {
   "cell_type": "code",
   "execution_count": 7,
   "metadata": {
    "collapsed": true
   },
   "outputs": [],
   "source": [
    "best_iteration = 482\n",
    "predict = model.predict(test[features], num_iteration=best_iteration)"
   ]
  },
  {
   "cell_type": "code",
   "execution_count": 8,
   "metadata": {
    "collapsed": true
   },
   "outputs": [],
   "source": [
    "sub = pd.DataFrame()\n",
    "sub['click_id'] = test['click_id'].astype('int')\n",
    "sub['is_attributed'] = predict\n",
    "sub.to_csv('data/submission-%s.zip'%('05-02-02'), index=False,compression='zip', float_format='%.9f')"
   ]
  },
  {
   "cell_type": "code",
   "execution_count": null,
   "metadata": {
    "collapsed": true
   },
   "outputs": [],
   "source": [
    "!kaggle competitions submit -c talkingdata-adtracking-fraud-detection -f submission-05-02-02.zip -m \"submit\""
   ]
  }
 ],
 "metadata": {
  "kernelspec": {
   "display_name": "Python 3",
   "language": "python",
   "name": "python3"
  },
  "language_info": {
   "codemirror_mode": {
    "name": "ipython",
    "version": 3
   },
   "file_extension": ".py",
   "mimetype": "text/x-python",
   "name": "python",
   "nbconvert_exporter": "python",
   "pygments_lexer": "ipython3",
   "version": "3.6.3"
  }
 },
 "nbformat": 4,
 "nbformat_minor": 2
}
