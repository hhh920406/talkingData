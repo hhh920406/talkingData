{
 "cells": [
  {
   "cell_type": "code",
   "execution_count": 1,
   "metadata": {
    "collapsed": true
   },
   "outputs": [],
   "source": [
    "import numpy as np\n",
    "import pandas as pd\n",
    "import lightgbm as lgb\n",
    "import gc\n",
    "from time import gmtime, strftime"
   ]
  },
  {
   "cell_type": "code",
   "execution_count": null,
   "metadata": {
    "collapsed": true
   },
   "outputs": [],
   "source": [
    "train = pd.read_feather('data/train_features.ftr')\n",
    "valid = pd.read_feather('data/valid_features.ftr')"
   ]
  },
  {
   "cell_type": "code",
   "execution_count": 3,
   "metadata": {},
   "outputs": [],
   "source": [
    "lgb_params = {\n",
    "    'boosting_type': 'gbdt',\n",
    "    'objective': 'binary',\n",
    "    'metric': 'auc',\n",
    "    'learning_rate': 0.1,\n",
    "    #'is_unbalance': 'true',  #because training data is unbalance (replaced with scale_pos_weight)\n",
    "    'num_leaves': 31,  # we should let it be smaller than 2^(max_depth)\n",
    "    'max_depth': 5,  # -1 means no limit\n",
    "    'min_child_samples': 20,  # Minimum number of data need in a child(min_data_in_leaf)\n",
    "    'max_bin': 255,  # Number of bucketed bin for feature values\n",
    "    'subsample': 0.6,  # Subsample ratio of the training instance.\n",
    "    'subsample_freq': 1,  # frequence of subsample, <=0 means no enable\n",
    "    'colsample_bytree': 0.7,  # Subsample ratio of columns when constructing each tree.\n",
    "    'min_child_weight': 5,  # Minimum sum of instance weight(hessian) needed in a child(leaf)\n",
    "    'subsample_for_bin': 200000,  # Number of samples for constructing bin\n",
    "    'min_split_gain': 0,  # lambda_l1, lambda_l2 and min_gain_to_split to regularization\n",
    "    'reg_alpha': 0,  # L1 regularization term on weights\n",
    "    'reg_lambda': 0,  # L2 regularization term on weights\n",
    "    'nthread': 24,\n",
    "    'verbose': 0,\n",
    "    'scale_pos_weight' : 200 # because training data is extremely unbalanced\n",
    "}\n",
    "\n",
    "\n",
    "features = [\n",
    "    'ip', 'app', 'device', 'os', 'channel',\n",
    "    'day', 'hour', 'app_count', 'ip_count', 'ip_device_count',\n",
    "    'app_channel_count', 'app_channel_day_count',\n",
    "    'app_channel_day_hour_count', 'app_countAccum',\n",
    "    'app_channel_countAccum', 'ip_countAccum',\n",
    "    'device_channel_day_hour_countAccum', 'app_device_day_hour_countAccum',\n",
    "    'app_channel_day_hour_countAccum', 'app_uniq_ip_countUniq',\n",
    "    'app_day_uniq_ip_countUniq', 'app_channel_hour_uniq_os_countUniq',\n",
    "    'ip_uniq_channel_countUniq', 'ip_uniq_app_countUniq',\n",
    "    'app_channel_day_hour_uniq_os_countUniq',\n",
    "    'app_device_channel_uniq_ip_countUniq', 'ip_uniq_hour_countUniq',\n",
    "    'ip_uniq_os_countUniq', 'app_channel_nextClick', 'ip_nextClick',\n",
    "    'channel_nextClick', 'ip_device_nextClick', 'channel_day_nextClick',\n",
    "    'app_nextClick'\n",
    "]\n",
    "\n",
    "categorical = ['ip','app', 'device', 'os', 'channel', 'hour']\n",
    "respond = 'is_attributed'"
   ]
  },
  {
   "cell_type": "code",
   "execution_count": 10,
   "metadata": {
    "collapsed": true
   },
   "outputs": [],
   "source": [
    "xgtrain = lgb.Dataset('data/train_features.bin', \n",
    "                      feature_name=features,\n",
    "                      categorical_feature=categorical\n",
    "                     )\n",
    "xgvalid = lgb.Dataset('data/valid_features.bin', \n",
    "                      feature_name=features,\n",
    "                      categorical_feature=categorical\n",
    "                     )"
   ]
  },
  {
   "cell_type": "code",
   "execution_count": null,
   "metadata": {
    "collapsed": true
   },
   "outputs": [],
   "source": [
    "xgtrain = lgb.Dataset(train[features].values, \n",
    "                      label=train[respond].values,\n",
    "                      feature_name=features,\n",
    "                      categorical_feature=categorical\n",
    "                     )\n",
    "xgvalid = lgb.Dataset(valid[features].values, \n",
    "                      label=valid[respond].values,\n",
    "                      feature_name=features,\n",
    "                      categorical_feature=categorical\n",
    "                     )"
   ]
  },
  {
   "cell_type": "code",
   "execution_count": null,
   "metadata": {},
   "outputs": [
    {
     "name": "stderr",
     "output_type": "stream",
     "text": [
      "/home/ubuntu/anaconda3/lib/python3.6/site-packages/lightgbm/basic.py:1036: UserWarning: Using categorical_feature in Dataset.\n",
      "  warnings.warn('Using categorical_feature in Dataset.')\n",
      "/home/ubuntu/anaconda3/lib/python3.6/site-packages/lightgbm/basic.py:681: UserWarning: categorical_feature in param dict is overrided.\n",
      "  warnings.warn('categorical_feature in param dict is overrided.')\n"
     ]
    },
    {
     "name": "stdout",
     "output_type": "stream",
     "text": [
      "Training until validation scores don't improve for 50 rounds.\n",
      "[10]\ttrain's auc: 0.968015\tvalid's auc: 0.962361\n"
     ]
    }
   ],
   "source": [
    "evals_results = {}\n",
    "bst = lgb.train(lgb_params, \n",
    "                 xgtrain, \n",
    "                 valid_sets=[xgtrain, xgvalid], \n",
    "                 valid_names=['train', 'valid'], \n",
    "                 evals_result=evals_results, \n",
    "                 num_boost_round=1000,\n",
    "                 early_stopping_rounds=50,\n",
    "                 verbose_eval=10, \n",
    "                 feval=None)"
   ]
  },
  {
   "cell_type": "code",
   "execution_count": null,
   "metadata": {
    "collapsed": true
   },
   "outputs": [],
   "source": [
    "gain = bst.feature_importance('gain')\n",
    "ft = pd.DataFrame({'feature':bst.feature_name(), 'split':bst.feature_importance('split'), 'gain':100 * gain / gain.sum()}).sort_values('gain', ascending=False)\n",
    "ft.to_csv('feature_importance.csv',index=False)"
   ]
  },
  {
   "cell_type": "code",
   "execution_count": null,
   "metadata": {
    "collapsed": true
   },
   "outputs": [],
   "source": [
    "ft"
   ]
  },
  {
   "cell_type": "code",
   "execution_count": null,
   "metadata": {
    "collapsed": true
   },
   "outputs": [],
   "source": [
    "model_name = 'data/model-%s'%strftime(\"%Y-%m-%d-%H-%M-%S\", gmtime())\n",
    "bst.save_model(model_name)\n",
    "print('model saved as %s'%model_name)"
   ]
  }
 ],
 "metadata": {
  "kernelspec": {
   "display_name": "Python 3",
   "language": "python",
   "name": "python3"
  },
  "language_info": {
   "codemirror_mode": {
    "name": "ipython",
    "version": 3
   },
   "file_extension": ".py",
   "mimetype": "text/x-python",
   "name": "python",
   "nbconvert_exporter": "python",
   "pygments_lexer": "ipython3",
   "version": "3.6.3"
  }
 },
 "nbformat": 4,
 "nbformat_minor": 2
}
